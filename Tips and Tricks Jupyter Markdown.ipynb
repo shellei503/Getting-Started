{
 "cells": [
  {
   "cell_type": "markdown",
   "metadata": {},
   "source": [
    "<a id='toc'></a>"
   ]
  },
  {
   "cell_type": "markdown",
   "metadata": {},
   "source": [
    "***\n",
    "# <center><font color=blue> Table of Contents </font>     \n",
    "***\n",
    "[**Insert Image or Table**](#insert_image_or_table)\n",
    "> [Insert Table](#insert_table)<br>\n",
    "> [Insert Images (with url)](#insert_images_url)<br>\n",
    "> [Insert Images (local)](#insert_images_local)<br>\n",
    "> [Insert YouTube](#insert_yt)<br>\n",
    "\n",
    "[**Basic Formatting**](#insert_image_or_table)<br>\n",
    "> [Center](#center)<br>\n",
    "> [Bold](#bold)<br>\n",
    "> [Italics](#italics)<br>\n",
    "> [Bold and Italics](#bold_and_italics)<br>\n",
    "> [Strike Through](#strike_through)<br>\n",
    "\n",
    "[**Basic LaTex Math**](#basic_latex_math)<br>\n",
    "> [Inline Math](#inline)<br>\n",
    "> [Centered Math](#centered)<br>\n",
    "> [Subscripts](#subscripts)<br>\n",
    "> [Summations](#summations)<br>\n",
    "> [Equality Signs](#equality_signs)<br>\n",
    "> [For All](#forall)<br>\n",
    "> [Element Of](#element_of)<br>\n",
    "> [Union](#union)<br>\n",
    "> [Spaces in LaTeX](#spaces_in_latex)<br>\n",
    "\n",
    "[**Organization and Callouts**](#organization_and_callouts)<br>\n",
    "> [Break Lines](#break_lines)<br>\n",
    "> [Inline Code](#inline_code)<br>\n",
    "> [Block Code](#block_code)<br>\n",
    "> [Code with Syntax Highlighting](#syntax_highlighting)<br>\n",
    "> [Indented Quoting](#indented_quoting)<br>\n",
    "> [Multiple Indented Quoting (Blockquotes)](#blockquotes)<br>\n",
    "> [Alert Info Box](#blue_box)<br>\n",
    "\n",
    "[**Colored Text Formatting**](#colored_text_formatting)<br>\n",
    "> [Color Font](#color_text)<br>\n",
    "> [Highlight Text](#highlight)<br>\n",
    "> [Font Family](#font_family)<br>\n",
    "\n",
    "[**Mathematical Formulation**](#mathematical_formulation)<br>\n",
    "> [Indices and Sets](#indices)<br>\n",
    "> [Parameters](#parameters)<br>\n",
    "> [Decision Variables](#dv)<br>\n",
    "> [Objective Function](#of)<br>\n",
    "> [Constraints](#constraints)<br>"
   ]
  },
  {
   "cell_type": "markdown",
   "metadata": {},
   "source": [
    "<a id='insert_image_or_table'></a>"
   ]
  },
  {
   "cell_type": "markdown",
   "metadata": {},
   "source": [
    "***\n",
    "# <center><font color=blue> Insert Image or Table </font>     \n",
    "***"
   ]
  },
  {
   "cell_type": "markdown",
   "metadata": {},
   "source": [
    "<a id='insert_table'></a>"
   ]
  },
  {
   "cell_type": "markdown",
   "metadata": {},
   "source": [
    "## Insert Table"
   ]
  },
  {
   "cell_type": "markdown",
   "metadata": {},
   "source": [
    "|Name|Address|Salary| \n",
    "|-----|-------|------| \n",
    "|Hanna|Brisbane|4000| \n",
    "|Adam|Sydney|6000|"
   ]
  },
  {
   "cell_type": "raw",
   "metadata": {},
   "source": [
    "|Name|Address|Salary| \n",
    "|-----|-------|------| \n",
    "|Hanna|Brisbane|4000| \n",
    "|Adam|Sydney|6000|"
   ]
  },
  {
   "cell_type": "markdown",
   "metadata": {},
   "source": [
    "[**Return to TOC**](#toc)"
   ]
  },
  {
   "cell_type": "markdown",
   "metadata": {},
   "source": [
    "<a id='insert_images_url'></a>"
   ]
  },
  {
   "cell_type": "markdown",
   "metadata": {},
   "source": [
    "## Insert Images (with url)"
   ]
  },
  {
   "cell_type": "markdown",
   "metadata": {},
   "source": [
    "![alt text here](https://encrypted-tbn1.gstatic.com/shopping?q=tbn:ANd9GcRDViY_YP8gmDnX6fGHUmsmvXnfG6dY3WraNVTm4CdxSa8b2FbMdo2X_dsuUu9oWA&usqp=CAc)"
   ]
  },
  {
   "cell_type": "raw",
   "metadata": {},
   "source": [
    "![alt text here](https://encrypted-tbn1.gstatic.com/shopping?q=tbn:ANd9GcRDViY_YP8gmDnX6fGHUmsmvXnfG6dY3WraNVTm4CdxSa8b2FbMdo2X_dsuUu9oWA&usqp=CAc)"
   ]
  },
  {
   "cell_type": "markdown",
   "metadata": {},
   "source": [
    "[**Return to TOC**](#toc)"
   ]
  },
  {
   "cell_type": "markdown",
   "metadata": {},
   "source": [
    "<a id='insert_images_local'></a>"
   ]
  },
  {
   "cell_type": "markdown",
   "metadata": {},
   "source": [
    "## Insert Images (local)\n",
    "- this example assumes image is saved in same folder as the notebook"
   ]
  },
  {
   "cell_type": "markdown",
   "metadata": {},
   "source": [
    "<div>\n",
    "<img src=\"jupyter_img_14.png\" width=\"900\"/>\n",
    "</div>"
   ]
  },
  {
   "cell_type": "raw",
   "metadata": {},
   "source": [
    "<div>\n",
    "<img src=\"jupyter_img_14.png\" width=\"900\"/>\n",
    "</div>"
   ]
  },
  {
   "cell_type": "markdown",
   "metadata": {},
   "source": [
    "[**Return to TOC**](#toc)"
   ]
  },
  {
   "cell_type": "markdown",
   "metadata": {},
   "source": [
    "<a id='insert_yt'></a>"
   ]
  },
  {
   "cell_type": "markdown",
   "metadata": {},
   "source": [
    "## Insert YouTube"
   ]
  },
  {
   "cell_type": "markdown",
   "metadata": {},
   "source": [
    "YouTube Video Link \n",
    "<br>\n",
    "<br>\n",
    "<br>\n",
    "<br>\n",
    "\n",
    "[![YouTube Video Link](https://i.ytimg.com/vi/WIWhQpR-CjY/hqdefault.jpg?sqp=-oaymwEXCNACELwBSFryq4qpAwkIARUAAIhCGAE=&rs=AOn4CLAhQ0lamJ4egnDzhoUMvbl3CvwIlQ)](https://www.youtube.com/playlist?list=PLgA4wLGrqI-ll9OSJmR5nU4lV4_aNTgKx)"
   ]
  },
  {
   "cell_type": "raw",
   "metadata": {},
   "source": [
    "[![YouTube Video Link](https://i.ytimg.com/vi/WIWhQpR-CjY/hqdefault.jpg?sqp=-oaymwEXCNACELwBSFryq4qpAwkIARUAAIhCGAE=&rs=AOn4CLAhQ0lamJ4egnDzhoUMvbl3CvwIlQ)](https://www.youtube.com/playlist?list=PLgA4wLGrqI-ll9OSJmR5nU4lV4_aNTgKx)"
   ]
  },
  {
   "cell_type": "markdown",
   "metadata": {},
   "source": [
    "[**Return to TOC**](#toc)"
   ]
  },
  {
   "cell_type": "markdown",
   "metadata": {},
   "source": [
    "<a id='basic_formatting'></a>"
   ]
  },
  {
   "cell_type": "markdown",
   "metadata": {},
   "source": [
    "***\n",
    "# <center><font color=blue> Basic Formatting  </font>     \n",
    "***"
   ]
  },
  {
   "cell_type": "markdown",
   "metadata": {},
   "source": [
    "<a id='center'></a>"
   ]
  },
  {
   "cell_type": "markdown",
   "metadata": {},
   "source": [
    "## Center"
   ]
  },
  {
   "cell_type": "markdown",
   "metadata": {},
   "source": [
    "<center> this_is_an_example_of_a_centered_sentence </center>  "
   ]
  },
  {
   "cell_type": "raw",
   "metadata": {},
   "source": [
    "<center> this_is_an_example_of_a_centered_sentence </center>  "
   ]
  },
  {
   "cell_type": "markdown",
   "metadata": {},
   "source": [
    "[**Return to TOC**](#toc)"
   ]
  },
  {
   "cell_type": "markdown",
   "metadata": {},
   "source": [
    "<a id='bold'></a>"
   ]
  },
  {
   "cell_type": "markdown",
   "metadata": {},
   "source": [
    "## Bold"
   ]
  },
  {
   "cell_type": "markdown",
   "metadata": {},
   "source": [
    "**bold_text**"
   ]
  },
  {
   "cell_type": "raw",
   "metadata": {},
   "source": [
    "**bold_text**"
   ]
  },
  {
   "cell_type": "markdown",
   "metadata": {},
   "source": [
    "[**Return to TOC**](#toc)"
   ]
  },
  {
   "cell_type": "markdown",
   "metadata": {},
   "source": [
    "<a id='italics'></a>"
   ]
  },
  {
   "cell_type": "markdown",
   "metadata": {},
   "source": [
    "## Italics"
   ]
  },
  {
   "cell_type": "markdown",
   "metadata": {},
   "source": [
    "*italics_text*"
   ]
  },
  {
   "cell_type": "raw",
   "metadata": {},
   "source": [
    "*italics_text*"
   ]
  },
  {
   "cell_type": "markdown",
   "metadata": {},
   "source": [
    "[**Return to TOC**](#toc)"
   ]
  },
  {
   "cell_type": "markdown",
   "metadata": {},
   "source": [
    "<a id='bold_and_italics'></a>"
   ]
  },
  {
   "cell_type": "markdown",
   "metadata": {},
   "source": [
    "## Bold and Italics"
   ]
  },
  {
   "cell_type": "markdown",
   "metadata": {},
   "source": [
    "***bold_and_italics_text***"
   ]
  },
  {
   "cell_type": "raw",
   "metadata": {},
   "source": [
    "***bold_and_italics_text***"
   ]
  },
  {
   "cell_type": "markdown",
   "metadata": {},
   "source": [
    "[**Return to TOC**](#toc)"
   ]
  },
  {
   "cell_type": "markdown",
   "metadata": {},
   "source": [
    "<a id='strike_through'></a>"
   ]
  },
  {
   "cell_type": "markdown",
   "metadata": {},
   "source": [
    "## Strike Through"
   ]
  },
  {
   "cell_type": "markdown",
   "metadata": {},
   "source": [
    "~strike_through_text~"
   ]
  },
  {
   "cell_type": "raw",
   "metadata": {},
   "source": [
    "~strike_through_text~"
   ]
  },
  {
   "cell_type": "markdown",
   "metadata": {},
   "source": [
    "[**Return to TOC**](#toc)"
   ]
  },
  {
   "cell_type": "markdown",
   "metadata": {},
   "source": [
    "<a id='basic_latex_math'></a>"
   ]
  },
  {
   "cell_type": "markdown",
   "metadata": {},
   "source": [
    "***\n",
    "# <center><font color=blue> Basic LaTex Math  </font>     \n",
    "***"
   ]
  },
  {
   "cell_type": "markdown",
   "metadata": {},
   "source": [
    "<a id='inline'></a>"
   ]
  },
  {
   "cell_type": "markdown",
   "metadata": {},
   "source": [
    "## Inline Math \n",
    "- for inline text, start and end with **single**`$`"
   ]
  },
  {
   "cell_type": "markdown",
   "metadata": {},
   "source": [
    "$x+y =z$"
   ]
  },
  {
   "cell_type": "raw",
   "metadata": {},
   "source": [
    "$x+y =z$"
   ]
  },
  {
   "cell_type": "markdown",
   "metadata": {},
   "source": [
    "[**Return to TOC**](#toc)"
   ]
  },
  {
   "cell_type": "markdown",
   "metadata": {},
   "source": [
    "<a id='centered'></a>"
   ]
  },
  {
   "cell_type": "markdown",
   "metadata": {},
   "source": [
    "## Centered Math\n",
    "- for centered text, start and end with **double** `$$`\n"
   ]
  },
  {
   "cell_type": "markdown",
   "metadata": {},
   "source": [
    "$$\n",
    "x+y =z\n",
    "$$"
   ]
  },
  {
   "cell_type": "raw",
   "metadata": {},
   "source": [
    "$$\n",
    "x+y =z\n",
    "$$"
   ]
  },
  {
   "cell_type": "markdown",
   "metadata": {},
   "source": [
    "[**Return to TOC**](#toc)"
   ]
  },
  {
   "cell_type": "markdown",
   "metadata": {},
   "source": [
    "<a id='subscripts'></a>"
   ]
  },
  {
   "cell_type": "markdown",
   "metadata": {},
   "source": [
    "## Subscripts \n",
    "- Use brackets if subscript has more than one character"
   ]
  },
  {
   "cell_type": "markdown",
   "metadata": {},
   "source": [
    "$x_{ij}$"
   ]
  },
  {
   "cell_type": "raw",
   "metadata": {},
   "source": [
    "$x_{ij}$"
   ]
  },
  {
   "cell_type": "markdown",
   "metadata": {},
   "source": [
    "[**Return to TOC**](#toc)"
   ]
  },
  {
   "cell_type": "markdown",
   "metadata": {},
   "source": [
    "<a id='summations'></a>"
   ]
  },
  {
   "cell_type": "markdown",
   "metadata": {},
   "source": [
    "## Summations \n",
    "- These look better centered vs inline"
   ]
  },
  {
   "cell_type": "markdown",
   "metadata": {},
   "source": [
    "$$\n",
    "\\sum_{i=1}^{I}\n",
    "$$"
   ]
  },
  {
   "cell_type": "raw",
   "metadata": {},
   "source": [
    "$$\n",
    "\\sum_{i=1}^{I}\n",
    "$$"
   ]
  },
  {
   "cell_type": "markdown",
   "metadata": {},
   "source": [
    "[**Return to TOC**](#toc)"
   ]
  },
  {
   "cell_type": "markdown",
   "metadata": {},
   "source": [
    "<a id='equality_signs'></a>"
   ]
  },
  {
   "cell_type": "markdown",
   "metadata": {},
   "source": [
    "## Equality Signs"
   ]
  },
  {
   "cell_type": "markdown",
   "metadata": {},
   "source": [
    "$\n",
    "\\geq\n",
    "$"
   ]
  },
  {
   "cell_type": "raw",
   "metadata": {},
   "source": [
    "$\n",
    "\\geq\n",
    "$"
   ]
  },
  {
   "cell_type": "markdown",
   "metadata": {},
   "source": [
    "$\n",
    "\\leq\n",
    "$"
   ]
  },
  {
   "cell_type": "raw",
   "metadata": {},
   "source": [
    "$\n",
    "\\leq\n",
    "$"
   ]
  },
  {
   "cell_type": "markdown",
   "metadata": {},
   "source": [
    "$\n",
    "\\neq\n",
    "$"
   ]
  },
  {
   "cell_type": "raw",
   "metadata": {},
   "source": [
    "$\n",
    "\\neq\n",
    "$"
   ]
  },
  {
   "cell_type": "markdown",
   "metadata": {},
   "source": [
    "[**Return to TOC**](#toc)"
   ]
  },
  {
   "cell_type": "markdown",
   "metadata": {},
   "source": [
    "<a id='forall'></a>"
   ]
  },
  {
   "cell_type": "markdown",
   "metadata": {},
   "source": [
    "## For All"
   ]
  },
  {
   "cell_type": "markdown",
   "metadata": {},
   "source": [
    "$\n",
    "\\forall\n",
    "$"
   ]
  },
  {
   "cell_type": "raw",
   "metadata": {},
   "source": [
    "$\n",
    "\\forall\n",
    "$"
   ]
  },
  {
   "cell_type": "markdown",
   "metadata": {},
   "source": [
    "[**Return to TOC**](#toc)"
   ]
  },
  {
   "cell_type": "markdown",
   "metadata": {},
   "source": [
    "<a id='element_of'></a>"
   ]
  },
  {
   "cell_type": "markdown",
   "metadata": {},
   "source": [
    "## Element Of"
   ]
  },
  {
   "cell_type": "markdown",
   "metadata": {},
   "source": [
    "$\n",
    "\\in\n",
    "$"
   ]
  },
  {
   "cell_type": "raw",
   "metadata": {},
   "source": [
    "$\n",
    "\\in\n",
    "$"
   ]
  },
  {
   "cell_type": "markdown",
   "metadata": {},
   "source": [
    "[**Return to TOC**](#toc)"
   ]
  },
  {
   "cell_type": "markdown",
   "metadata": {},
   "source": [
    "<a id='union'></a>"
   ]
  },
  {
   "cell_type": "markdown",
   "metadata": {},
   "source": [
    "## Union"
   ]
  },
  {
   "cell_type": "markdown",
   "metadata": {},
   "source": [
    "$\n",
    "\\cup\n",
    "$"
   ]
  },
  {
   "cell_type": "raw",
   "metadata": {},
   "source": [
    "$\n",
    "\\cup\n",
    "$"
   ]
  },
  {
   "cell_type": "markdown",
   "metadata": {},
   "source": [
    "[**Return to TOC**](#toc)"
   ]
  },
  {
   "cell_type": "markdown",
   "metadata": {},
   "source": [
    "<a id='spaces_in_latex'></a>"
   ]
  },
  {
   "cell_type": "markdown",
   "metadata": {},
   "source": [
    "## Spaces in LaTeX"
   ]
  },
  {
   "cell_type": "markdown",
   "metadata": {},
   "source": [
    "1. XL\n",
    "2. L\n",
    "3. M\n",
    "4. S\n",
    "5. XS"
   ]
  },
  {
   "cell_type": "markdown",
   "metadata": {},
   "source": [
    "1. $hello \\qquad world$<br>\n",
    "2. $hello \\enspace world$<br>\n",
    "3. $hello \\; world$<br>\n",
    "4. $hello \\: world$<br>\n",
    "5. $hello \\, world$"
   ]
  },
  {
   "cell_type": "raw",
   "metadata": {},
   "source": [
    "1. $hello \\qquad world$<br>\n",
    "2. $hello \\enspace world$<br>\n",
    "3. $hello \\; world$<br>\n",
    "4. $hello \\: world$<br>\n",
    "5. $hello \\, world$"
   ]
  },
  {
   "cell_type": "markdown",
   "metadata": {},
   "source": [
    "[**Return to TOC**](#toc)"
   ]
  },
  {
   "cell_type": "markdown",
   "metadata": {},
   "source": [
    "<a id='organization_and_callouts'></a>"
   ]
  },
  {
   "cell_type": "markdown",
   "metadata": {},
   "source": [
    "***\n",
    "# <center><font color=blue> Organization and Callouts</font>     \n",
    "***"
   ]
  },
  {
   "cell_type": "markdown",
   "metadata": {},
   "source": [
    "[**Return to TOC**](#toc)"
   ]
  },
  {
   "cell_type": "markdown",
   "metadata": {},
   "source": [
    "<a id='break_lines'></a>"
   ]
  },
  {
   "cell_type": "markdown",
   "metadata": {},
   "source": [
    "## Break Lines"
   ]
  },
  {
   "cell_type": "markdown",
   "metadata": {},
   "source": [
    "***\n",
    "Break line above and below text\n",
    "***"
   ]
  },
  {
   "cell_type": "raw",
   "metadata": {},
   "source": [
    "***\n",
    "Break line above and below text\n",
    "***"
   ]
  },
  {
   "cell_type": "markdown",
   "metadata": {},
   "source": [
    "[**Return to TOC**](#toc)"
   ]
  },
  {
   "cell_type": "markdown",
   "metadata": {},
   "source": [
    "<a id='inline_code'></a>"
   ]
  },
  {
   "cell_type": "markdown",
   "metadata": {},
   "source": [
    "## Inline Code"
   ]
  },
  {
   "cell_type": "markdown",
   "metadata": {},
   "source": [
    "This is `inline code` highlighting"
   ]
  },
  {
   "cell_type": "raw",
   "metadata": {},
   "source": [
    "This is `inline code` highlighting"
   ]
  },
  {
   "cell_type": "markdown",
   "metadata": {},
   "source": [
    "[**Return to TOC**](#toc)"
   ]
  },
  {
   "cell_type": "markdown",
   "metadata": {},
   "source": [
    "<a id='block_code'></a>"
   ]
  },
  {
   "cell_type": "markdown",
   "metadata": {},
   "source": [
    "## Block Code"
   ]
  },
  {
   "cell_type": "markdown",
   "metadata": {},
   "source": [
    "```\n",
    "str = \"This is block level code\"\n",
    "print(str)\n",
    "```"
   ]
  },
  {
   "cell_type": "raw",
   "metadata": {},
   "source": [
    "```\n",
    "str = \"This is block level code\"\n",
    "print(str)\n",
    "```"
   ]
  },
  {
   "cell_type": "markdown",
   "metadata": {},
   "source": [
    "[**Return to TOC**](#toc)"
   ]
  },
  {
   "cell_type": "markdown",
   "metadata": {},
   "source": [
    "<a id='syntax_highlighting'></a>"
   ]
  },
  {
   "cell_type": "markdown",
   "metadata": {},
   "source": [
    "## Code with Syntax Highlighting"
   ]
  },
  {
   "cell_type": "markdown",
   "metadata": {},
   "source": [
    "```Python\n",
    "str = \"This is block level code\"\n",
    "print(str)\n",
    "```"
   ]
  },
  {
   "cell_type": "raw",
   "metadata": {},
   "source": [
    "```Python\n",
    "str = \"This is block level code\"\n",
    "print(str)\n",
    "```"
   ]
  },
  {
   "cell_type": "markdown",
   "metadata": {},
   "source": [
    "[**Return to TOC**](#toc)"
   ]
  },
  {
   "cell_type": "markdown",
   "metadata": {},
   "source": [
    "<a id='indented_quoting'></a>"
   ]
  },
  {
   "cell_type": "markdown",
   "metadata": {},
   "source": [
    "## Indented Quoting"
   ]
  },
  {
   "cell_type": "markdown",
   "metadata": {},
   "source": [
    "> this is an example of indented quoting"
   ]
  },
  {
   "cell_type": "raw",
   "metadata": {},
   "source": [
    "> this is an example of indented quoting"
   ]
  },
  {
   "cell_type": "markdown",
   "metadata": {},
   "source": [
    "[**Return to TOC**](#toc)"
   ]
  },
  {
   "cell_type": "markdown",
   "metadata": {},
   "source": [
    "<a id='blockquotes'></a>"
   ]
  },
  {
   "cell_type": "markdown",
   "metadata": {},
   "source": [
    "## Multiple Indented Quoting (Blockquotes)"
   ]
  },
  {
   "cell_type": "markdown",
   "metadata": {},
   "source": [
    "> 1 Blockquotes\n",
    ">> 2 Blockquotes\n",
    ">>> 3 Blockquotes"
   ]
  },
  {
   "cell_type": "raw",
   "metadata": {},
   "source": [
    "> 1 Blockquotes\n",
    ">> 2 Blockquotes\n",
    ">>> 3 Blockquotes"
   ]
  },
  {
   "cell_type": "markdown",
   "metadata": {},
   "source": [
    "[**Return to TOC**](#toc)"
   ]
  },
  {
   "cell_type": "markdown",
   "metadata": {},
   "source": [
    "<a id='blue_box'></a>"
   ]
  },
  {
   "cell_type": "markdown",
   "metadata": {},
   "source": [
    "## Alert Info Box"
   ]
  },
  {
   "cell_type": "markdown",
   "metadata": {},
   "source": [
    "<div class=\"alert alert-info\"> </h4> \n",
    "This_gives_me_a_blue_alert_info_box\n",
    "</h4> </div>\n"
   ]
  },
  {
   "cell_type": "raw",
   "metadata": {},
   "source": [
    "<div class=\"alert alert-info\"> </h4> \n",
    "This_gives_me_a_blue_alert_info_box\n",
    "</h4> </div>\n"
   ]
  },
  {
   "cell_type": "markdown",
   "metadata": {},
   "source": [
    "[**Return to TOC**](#toc)"
   ]
  },
  {
   "cell_type": "markdown",
   "metadata": {},
   "source": [
    "<a id='colored_text_formatting'></a>"
   ]
  },
  {
   "cell_type": "markdown",
   "metadata": {},
   "source": [
    "***\n",
    "# <center><font color=blue> Colored Text Formatting</font>     \n",
    "***"
   ]
  },
  {
   "cell_type": "markdown",
   "metadata": {},
   "source": [
    "<a id='color_text'></a>"
   ]
  },
  {
   "cell_type": "markdown",
   "metadata": {},
   "source": [
    "## Color Text"
   ]
  },
  {
   "cell_type": "markdown",
   "metadata": {},
   "source": [
    "<font color=red> red_text </font> <br>\n",
    "<font color=orange> orange_text </font> <br>\n",
    "<font color=yellow> yellow_text </font> <br>\n",
    "<font color=green> green_text </font> <br>\n",
    "<font color=blue> blue_text </font> <br>\n",
    "<font color=indigo> indigo_text </font> <br>\n",
    "<font color=violet> violet_text </font> <br>\n",
    "\n",
    "---\n",
    "\n",
    "<font color=pink> pink_text </font> <br>\n",
    "<font color=gray> gray_text </font> <br>\n",
    "<font color=purple> purple_text </font> <br>\n",
    "<font color=brown> brown_text </font> <br>\n",
    "<font color=navy> navy_text </font> <br>"
   ]
  },
  {
   "cell_type": "raw",
   "metadata": {},
   "source": [
    "<font color=red> red_text </font> <br>\n",
    "<font color=orange> orange_text </font> <br>\n",
    "<font color=yellow> yellow_text </font> <br>\n",
    "<font color=green> green_text </font> <br>\n",
    "<font color=blue> blue_text </font> <br>\n",
    "<font color=indigo> indigo_text </font> <br>\n",
    "<font color=violet> violet_text </font> <br>\n",
    "\n",
    "---\n",
    "\n",
    "<font color=grey> grey_text </font> <br>\n",
    "<font color=purple> purple_text </font> <br>\n",
    "<font color=brown> brown_text </font> <br>\n",
    "<font color=navy> navy_text </font> <br>"
   ]
  },
  {
   "cell_type": "markdown",
   "metadata": {},
   "source": [
    "[**Return to TOC**](#toc)"
   ]
  },
  {
   "cell_type": "markdown",
   "metadata": {},
   "source": [
    "<a id='highlight'></a>"
   ]
  },
  {
   "cell_type": "markdown",
   "metadata": {},
   "source": [
    "## Highlight Text"
   ]
  },
  {
   "cell_type": "markdown",
   "metadata": {},
   "source": [
    "<span style='background :red'> red_highlight </span> <br>\n",
    "<span style='background :orange'> orange_highlight </span> <br>\n",
    "<span style='background :yellow'> yellow_highlight </span> <br>\n",
    "<span style='background :green'> green_highlight </span> <br>\n",
    "<span style='background :blue'> blue_highlight </span> <br>\n",
    "<span style='background :indigo'> indigo_highlight </span> <br>\n",
    "<span style='background :violet'> violet_highlight </span> <br>\n",
    "\n",
    "---\n",
    "\n",
    "<span style='background :gray' > grey_highlight </span><br>\n",
    "<span style='background :purple'> purple_highlight </span> <br>\n",
    "<span style='background :brown'> brown_highlight </span> <br>\n",
    "<span style='background :navy'> navy_highlight </span> <br>"
   ]
  },
  {
   "cell_type": "raw",
   "metadata": {},
   "source": [
    "<span style='background :red'> red_highlight </span> <br>\n",
    "<span style='background :orange'> orange_highlight </span> <br>\n",
    "<span style='background :yellow'> yellow_highlight </span> <br>\n",
    "<span style='background :green'> green_highlight </span> <br>\n",
    "<span style='background :blue'> blue_highlight </span> <br>\n",
    "<span style='background :indigo'> indigo_highlight </span> <br>\n",
    "<span style='background :violet'> violet_highlight </span> <br>\n",
    "\n",
    "---\n",
    "\n",
    "<span style='background :gray' > grey_highlight </span><br>\n",
    "<span style='background :purple'> purple_highlight </span> <br>\n",
    "<span style='background :brown'> brown_highlight </span> <br>\n",
    "<span style='background :navy'> navy_highlight </span> <br>"
   ]
  },
  {
   "cell_type": "markdown",
   "metadata": {},
   "source": [
    "[**Return to TOC**](#toc)"
   ]
  },
  {
   "cell_type": "markdown",
   "metadata": {},
   "source": [
    "<a id='font_family'></a>"
   ]
  },
  {
   "cell_type": "markdown",
   "metadata": {},
   "source": [
    "## Font Family"
   ]
  },
  {
   "cell_type": "markdown",
   "metadata": {},
   "source": [
    "<span style='font-family:Calibri'> Calibri<br>\n",
    "<span style='font-family:Courier'> Courier<br>\n",
    "<span style='font-family:\"Courier New\"'> Courier_New<br>\n",
    "<span style='font-family:Helvetica'> Helvetica<br>\n",
    "<span style='font-family:Georgia'> Georgia<br>\n",
    "<span style='font-family:\"Times New Roman\"'> Times_New_Roman<br>\n",
    "<span style='font-family:serif'> Serif<br>\n",
    "<span style='font-family:sans-serif'> Sans-Serif<br>\n",
    "\n",
    "---\n",
    "\n",
    "<span style='font-family:\"American Typewriter'> American_Typewriter<br>\n",
    "<span style='font-family:\"Bradley Hand\"'> Bradley_Hand<br>\n",
    "<span style='font-family:\"Cambria Math\"'> Cambria Math<br>\n",
    "<span style='font-family:\"Chalkboard\"'> Chalkboard<br>\n",
    "<span style='font-family:\"Chalkboard SE\"'> Chalkboard_SE<br>\n",
    "<span style='font-family:\"Chalkduster\"'> Chalkduster<br>\n",
    "\n"
   ]
  },
  {
   "cell_type": "raw",
   "metadata": {},
   "source": [
    "<span style='font-family:Calibri'> Calibri<br>\n",
    "<span style='font-family:Courier'> Courier<br>\n",
    "<span style='font-family:\"Courier New\"'> Courier_New<br>\n",
    "<span style='font-family:Helvetica'> Helvetica<br>\n",
    "<span style='font-family:Georgia'> Georgia<br>\n",
    "<span style='font-family:\"Times New Roman\"'> Times_New_Roman<br>\n",
    "<span style='font-family:serif'> Serif<br>\n",
    "<span style='font-family:sans-serif'> Sans-Serif<br>\n",
    "\n",
    "---\n",
    "\n",
    "<span style='font-family:\"American Typewriter'> American_Typewriter<br>\n",
    "<span style='font-family:\"Bradley Hand\"'> Bradley_Hand<br>\n",
    "<span style='font-family:\"Cambria Math\"'> Cambria Math<br>\n",
    "<span style='font-family:\"Chalkboard\"'> Chalkboard<br>\n",
    "<span style='font-family:\"Chalkboard SE\"'> Chalkboard_SE<br>\n",
    "<span style='font-family:\"Chalkduster\"'> Chalkduster<br>"
   ]
  },
  {
   "cell_type": "markdown",
   "metadata": {},
   "source": [
    "[**Return to TOC**](#toc)"
   ]
  },
  {
   "cell_type": "markdown",
   "metadata": {},
   "source": [
    "<a id='mathematical_formulation'></a>"
   ]
  },
  {
   "cell_type": "markdown",
   "metadata": {},
   "source": [
    "***\n",
    "# <center> <font color=blue> Mathematical Formulation</font>\n",
    "***"
   ]
  },
  {
   "cell_type": "markdown",
   "metadata": {},
   "source": [
    "<a id='indices'></a>"
   ]
  },
  {
   "cell_type": "markdown",
   "metadata": {},
   "source": [
    "## Indices/Sets"
   ]
  },
  {
   "cell_type": "markdown",
   "metadata": {},
   "source": [
    "<a id='indices_simple'></a>"
   ]
  },
  {
   "cell_type": "markdown",
   "metadata": {},
   "source": [
    "#### <font color=purple> Simple Example  </font>\n",
    "Let $C$ represent the set of customer nodes, $c$\n",
    "\n",
    "$$ \n",
    "C = \\{1, 2, ... , c\\} \n",
    "$$"
   ]
  },
  {
   "cell_type": "raw",
   "metadata": {},
   "source": [
    "Let $C$ represent the set of customer nodes, $c$\n",
    "\n",
    "$$ \n",
    "C = \\{1, 2, ... , c\\} \n",
    "$$"
   ]
  },
  {
   "cell_type": "markdown",
   "metadata": {},
   "source": [
    "<a id='indices_tuple'></a>"
   ]
  },
  {
   "cell_type": "markdown",
   "metadata": {},
   "source": [
    "#### <font color=purple> Tuples  </font>\n",
    "Let $A$ represent the set of arcs, $a$, between each node $n$\n",
    "\n",
    "$$ \n",
    "A = \\{(0,1),\\:(0,2),\\: ...\\:(n,n-1)\\} \\; \\; | \\; \\; A = \\{i,j \\in N^2 : i \\neq j \\} \n",
    "$$"
   ]
  },
  {
   "cell_type": "raw",
   "metadata": {},
   "source": [
    "Let $A$ represent the set of arcs, $a$, between each node $n$\n",
    "\n",
    "$$ \n",
    "A = \\{(0,1),\\:(0,2),\\: ...\\:(n,n-1)\\} \\; \\; | \\; \\; A = \\{i,j \\in N^2 : i \\neq j \\} \n",
    "$$"
   ]
  },
  {
   "cell_type": "markdown",
   "metadata": {},
   "source": [
    "<a id='indices_st'></a>"
   ]
  },
  {
   "cell_type": "markdown",
   "metadata": {},
   "source": [
    "#### <font color=purple> Spacing for \"such that statements\"  </font>\n",
    "Let $N$ represent the set of nodes, $n$, where 0 represents the depot (starting node)\n",
    "\n",
    "$$ \n",
    "N = \\{0,1,2,..., n\\} \\; \\; | \\; \\; N = \\{0\\}  \\cup C\n",
    "$$\n"
   ]
  },
  {
   "cell_type": "raw",
   "metadata": {},
   "source": [
    "Let $N$ represent the set of nodes, $n$, where 0 represents the depot (starting node)\n",
    "\n",
    "$$ \n",
    "N = \\{0,1,2,..., n\\} \\; \\; | \\; \\; N = \\{0\\}  \\cup C\n",
    "$$\n"
   ]
  },
  {
   "cell_type": "markdown",
   "metadata": {},
   "source": [
    "[**Return to TOC**](#toc)"
   ]
  },
  {
   "cell_type": "markdown",
   "metadata": {},
   "source": [
    "<a id='parameters'></a>"
   ]
  },
  {
   "cell_type": "markdown",
   "metadata": {},
   "source": [
    "## Parameters"
   ]
  },
  {
   "cell_type": "markdown",
   "metadata": {},
   "source": [
    "Let $c_{ij}$ = distance (or cost) between node $i$ and $j$"
   ]
  },
  {
   "cell_type": "raw",
   "metadata": {},
   "source": [
    "Let $c_{ij}$ = distance (or cost) between node $i$ and $j$}"
   ]
  },
  {
   "cell_type": "markdown",
   "metadata": {},
   "source": [
    "[**Return to TOC**](#toc)"
   ]
  },
  {
   "cell_type": "markdown",
   "metadata": {},
   "source": [
    "<a id='dv'></a>"
   ]
  },
  {
   "cell_type": "markdown",
   "metadata": {},
   "source": [
    "## Decision Variables"
   ]
  },
  {
   "cell_type": "markdown",
   "metadata": {},
   "source": [
    "Let $x_{ij}$ = 1 if a trip is made on arc $(i,j) \\in A$, 0 otherwise"
   ]
  },
  {
   "cell_type": "raw",
   "metadata": {},
   "source": [
    "Let $x_{ij}$ = 1 if a trip is made on arc $(i,j) \\in A$, 0 otherwise"
   ]
  },
  {
   "cell_type": "markdown",
   "metadata": {},
   "source": [
    "[**Return to TOC**](#toc)"
   ]
  },
  {
   "cell_type": "markdown",
   "metadata": {},
   "source": [
    "<a id='of'></a>"
   ]
  },
  {
   "cell_type": "markdown",
   "metadata": {},
   "source": [
    "## Objective Function"
   ]
  },
  {
   "cell_type": "markdown",
   "metadata": {},
   "source": [
    "$Minimize: Z$\n",
    "\n",
    "$$\n",
    "Z = \\sum_{d=1}^D \\sum_{t=1}^T c_{dt}x_{dt}\n",
    "$$"
   ]
  },
  {
   "cell_type": "raw",
   "metadata": {},
   "source": [
    "$Minimize: Z$\n",
    "\n",
    "$$\n",
    "Z = \\sum_{d=1}^D \\sum_{t=1}^T c_{dt}x_{dt}\n",
    "$$"
   ]
  },
  {
   "cell_type": "markdown",
   "metadata": {},
   "source": [
    "[**Return to TOC**](#toc)"
   ]
  },
  {
   "cell_type": "markdown",
   "metadata": {},
   "source": [
    "<a id='math_forall_summation'></a>"
   ]
  },
  {
   "cell_type": "markdown",
   "metadata": {},
   "source": [
    "<a id='constraints'></a>"
   ]
  },
  {
   "cell_type": "markdown",
   "metadata": {},
   "source": [
    "## Constraints"
   ]
  },
  {
   "cell_type": "markdown",
   "metadata": {},
   "source": [
    "$$\n",
    "\\sum_{i=1}^{I} x_ij < d_i\n",
    "\\qquad\n",
    "\\forall  \\enspace j \\: \\epsilon \\:J\n",
    "$$"
   ]
  },
  {
   "cell_type": "raw",
   "metadata": {},
   "source": [
    "$$\n",
    "\\sum_{i=1}^{I} x_ij < d_i\n",
    "\\qquad\n",
    "\\forall  \\enspace j \\: \\epsilon \\:J\n",
    "$$"
   ]
  },
  {
   "cell_type": "code",
   "execution_count": null,
   "metadata": {},
   "outputs": [],
   "source": []
  },
  {
   "cell_type": "markdown",
   "metadata": {},
   "source": [
    "[**Return to TOC**](#toc)"
   ]
  }
 ],
 "metadata": {
  "kernelspec": {
   "display_name": "Python 3",
   "language": "python",
   "name": "python3"
  },
  "language_info": {
   "codemirror_mode": {
    "name": "ipython",
    "version": 3
   },
   "file_extension": ".py",
   "mimetype": "text/x-python",
   "name": "python",
   "nbconvert_exporter": "python",
   "pygments_lexer": "ipython3",
   "version": "3.7.6"
  }
 },
 "nbformat": 4,
 "nbformat_minor": 4
}
