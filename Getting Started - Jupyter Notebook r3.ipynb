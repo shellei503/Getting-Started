{
 "cells": [
  {
   "cell_type": "markdown",
   "metadata": {},
   "source": [
    "<a id='toc'></a>"
   ]
  },
  {
   "cell_type": "markdown",
   "metadata": {},
   "source": [
    "<a id='toc'></a>"
   ]
  },
  {
   "cell_type": "markdown",
   "metadata": {},
   "source": [
    "***\n",
    "# <font color=blue> Table of Contents </font>\n",
    "***"
   ]
  },
  {
   "cell_type": "markdown",
   "metadata": {},
   "source": [
    "[**Insert Image or Table**](#insert_image_or_table)\n",
    "> [Insert Table](#insert_table)<br>\n",
    "> [Insert Images (with url)](#insert_images_url)<br>\n",
    "> [Insert Images (local)](#insert_images_local)<br>\n",
    "> [Insert YouTube](#insert_yt)<br>\n",
    "\n",
    "[**Basic Formatting**](#insert_image_or_table)<br>\n",
    "> [Bold](#bold)<br>\n",
    "> [Italics](#italics)<br>\n",
    "> [Bold and Italics](#bold_and_italics)<br>\n",
    "> [Color Text](#color_text)<br>\n",
    "> [Highlight Text](#highlight)<br>\n",
    "> [Font Family](#font_family)<br>\n",
    "\n",
    "[**Basic LaTex Math**](#basic_latex_math)<br>\n",
    "> [Inline Math](#inline)<br>\n",
    "> [Centered Math](#centered)<br>\n",
    "> [Subscripts](#subscripts)<br>\n",
    "> [Summations](#summations)<br>\n",
    "> [Equality Signs](#equality_signs)<br>\n",
    "> [For All](#forall)<br>\n",
    "> [Element Of](#element_of)<br>\n",
    "> [Union](#union)<br>\n",
    "> [Spaces in LaTeX](#spaces_in_latex)<br>\n",
    "\n",
    "[**Mathematical Formulation**](#mathematical_formulation)<br>\n",
    "> [Indices and Sets](#indices)<br>\n",
    "> [Parameters](#parameters)<br>\n",
    "> [Decision Variables](#dv)<br>\n",
    "> [Objective Function](#of)<br>\n",
    "> [Constraints](#constraints)<br>\n",
    "\n",
    "[**Colored Note Boxes**](#colored_note_boxes)<br>\n",
    "> [Blue Box (info)](#blue_box)<br>\n",
    "> [Yellow Box (warning)](#yellow_box)<br>\n",
    "> [Green Box (success)](#green_box)<br>\n",
    "> [Red Box (danger)](#red_box)<br>\n",
    "\n",
    "[**Organization and Callouts**](#organization_and_callouts)<br>\n",
    "> [Break Lines](#break_lines)<br>\n",
    "> [Inline Code](#inline_code)<br>\n",
    "> [Block Code](#block_code)<br>\n",
    "> [Code with Syntax Highlighting](#syntax_highlighting)<br>\n",
    "> [Indented Quoting](#indented_quoting)<br>\n",
    "> [Multiple Indented Quoting (Blockquotes)](#blockquotes)<br>\n",
    "> [Alert Info Box](#blue_box)<br>"
   ]
  },
  {
   "cell_type": "markdown",
   "metadata": {},
   "source": [
    "<a id='insert_image_or_table'></a>"
   ]
  },
  {
   "cell_type": "markdown",
   "metadata": {},
   "source": [
    "***\n",
    "# <font color=blue> Insert Image or Table </font>\n",
    "***"
   ]
  },
  {
   "cell_type": "markdown",
   "metadata": {},
   "source": [
    "|Name|Address|Salary| \n",
    "|-----|-------|------| \n",
    "|Hanna|Brisbane|4000| \n",
    "|Adam|Sydney|6000|"
   ]
  },
  {
   "cell_type": "markdown",
   "metadata": {},
   "source": [
    "<pre>\n",
    "|Name|Address|Salary| \n",
    "|-----|-------|------| \n",
    "|Hanna|Brisbane|4000| \n",
    "|Adam|Sydney|6000|\n",
    "</pre>"
   ]
  },
  {
   "cell_type": "code",
   "execution_count": null,
   "metadata": {},
   "outputs": [],
   "source": []
  }
 ],
 "metadata": {
  "kernelspec": {
   "display_name": "Python 3",
   "language": "python",
   "name": "python3"
  },
  "language_info": {
   "codemirror_mode": {
    "name": "ipython",
    "version": 3
   },
   "file_extension": ".py",
   "mimetype": "text/x-python",
   "name": "python",
   "nbconvert_exporter": "python",
   "pygments_lexer": "ipython3",
   "version": "3.7.6"
  }
 },
 "nbformat": 4,
 "nbformat_minor": 4
}
