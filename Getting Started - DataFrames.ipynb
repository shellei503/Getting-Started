{
 "cells": [
  {
   "cell_type": "code",
   "execution_count": 17,
   "metadata": {},
   "outputs": [],
   "source": [
    "import pandas as pd\n",
    "from pandas import DataFrame\n",
    "\n",
    "df=pd.read_csv(\"easy_show.csv\",encoding='latin1')"
   ]
  },
  {
   "cell_type": "markdown",
   "metadata": {},
   "source": [
    "# Concatenate Columns with different Types in a DF"
   ]
  },
  {
   "cell_type": "markdown",
   "metadata": {},
   "source": [
    "## Transform all colums into a list"
   ]
  },
  {
   "cell_type": "markdown",
   "metadata": {},
   "source": [
    "<font color = 'purple'> **Transform the ints into strings first**"
   ]
  },
  {
   "cell_type": "code",
   "execution_count": 10,
   "metadata": {},
   "outputs": [],
   "source": [
    "lst1 = list(df['House Number'].apply(str))\n",
    "lst2 = list(df['Compass'].apply(str))\n",
    "lst3 = list(df['Street Name'])\n",
    "lst4 = list(df['St Suffix'])"
   ]
  },
  {
   "cell_type": "markdown",
   "metadata": {},
   "source": [
    "## Use <font color = \"green\"> for loop, range <font color = \"black\">and <font color = \"green\"> len <font color = \"black\"> function to concatenate everything a<font color = \"green\"> single list"
   ]
  },
  {
   "cell_type": "code",
   "execution_count": 11,
   "metadata": {},
   "outputs": [],
   "source": [
    "address_lst = []\n",
    "for i in range(0,len(lst1)):\n",
    "    address = lst1[i] + ' ' + lst2[i] + ' ' + lst3[i] + ' ' + lst4[i]\n",
    "    address_lst.append(address)"
   ]
  },
  {
   "cell_type": "markdown",
   "metadata": {},
   "source": [
    "## Covert that list into a <font color = \"green\"> dataframe "
   ]
  },
  {
   "cell_type": "code",
   "execution_count": 12,
   "metadata": {},
   "outputs": [],
   "source": [
    "address_df = pd.DataFrame(address_lst,columns=['Address'])"
   ]
  },
  {
   "cell_type": "markdown",
   "metadata": {},
   "source": [
    "## Concatenate two dataframes back into one"
   ]
  },
  {
   "cell_type": "code",
   "execution_count": 13,
   "metadata": {
    "scrolled": false
   },
   "outputs": [
    {
     "data": {
      "text/html": [
       "<div>\n",
       "<style scoped>\n",
       "    .dataframe tbody tr th:only-of-type {\n",
       "        vertical-align: middle;\n",
       "    }\n",
       "\n",
       "    .dataframe tbody tr th {\n",
       "        vertical-align: top;\n",
       "    }\n",
       "\n",
       "    .dataframe thead th {\n",
       "        text-align: right;\n",
       "    }\n",
       "</style>\n",
       "<table border=\"1\" class=\"dataframe\">\n",
       "  <thead>\n",
       "    <tr style=\"text-align: right;\">\n",
       "      <th></th>\n",
       "      <th>List Number</th>\n",
       "      <th>Agency Name</th>\n",
       "      <th>Agency Phone</th>\n",
       "      <th>Listing Agent</th>\n",
       "      <th>Co-Listing Agent</th>\n",
       "      <th>Property Type</th>\n",
       "      <th>Card Format</th>\n",
       "      <th>Book Section</th>\n",
       "      <th>Selling Agency</th>\n",
       "      <th>Selling Agent</th>\n",
       "      <th>...</th>\n",
       "      <th>Off Market Date</th>\n",
       "      <th>Cross Street</th>\n",
       "      <th>Subdivision</th>\n",
       "      <th>Dwelling Styles</th>\n",
       "      <th>On Market Date</th>\n",
       "      <th>Photo URL</th>\n",
       "      <th>Days on Market</th>\n",
       "      <th>Rooms</th>\n",
       "      <th>Features</th>\n",
       "      <th>Address</th>\n",
       "    </tr>\n",
       "  </thead>\n",
       "  <tbody>\n",
       "    <tr>\n",
       "      <th>0</th>\n",
       "      <td>6073839</td>\n",
       "      <td>Casa Mia Realty (cmia01)</td>\n",
       "      <td>(480) 283-7143</td>\n",
       "      <td>Doris Ramos</td>\n",
       "      <td>NaN</td>\n",
       "      <td>Residential</td>\n",
       "      <td>Residential</td>\n",
       "      <td>Single Family - Detached</td>\n",
       "      <td>NaN</td>\n",
       "      <td>NaN</td>\n",
       "      <td>...</td>\n",
       "      <td>NaN</td>\n",
       "      <td>Miller Rd &amp; McKellips Rd</td>\n",
       "      <td>MY-O-MY ESTATES 2</td>\n",
       "      <td>Detached</td>\n",
       "      <td>NaN</td>\n",
       "      <td>http://photos.flexmls.com/az/20200505055057816...</td>\n",
       "      <td>42</td>\n",
       "      <td>NaN</td>\n",
       "      <td>Association &amp; Fees|HOA Y/N|N;Association &amp; Fee...</td>\n",
       "      <td>1244 E SUSAN LN</td>\n",
       "    </tr>\n",
       "    <tr>\n",
       "      <th>1</th>\n",
       "      <td>6063111</td>\n",
       "      <td>Realty Executives (reax26)</td>\n",
       "      <td>(480) 963-6000</td>\n",
       "      <td>Mo Yaw</td>\n",
       "      <td>Courtney Yaw</td>\n",
       "      <td>Residential</td>\n",
       "      <td>Residential</td>\n",
       "      <td>Single Family - Detached</td>\n",
       "      <td>NaN</td>\n",
       "      <td>NaN</td>\n",
       "      <td>...</td>\n",
       "      <td>NaN</td>\n",
       "      <td>MILL &amp; SOUTHERN</td>\n",
       "      <td>NU-VISTA 4 LOTS 196-258</td>\n",
       "      <td>Detached</td>\n",
       "      <td>NaN</td>\n",
       "      <td>http://photos.flexmls.com/az/20200407132351975...</td>\n",
       "      <td>50</td>\n",
       "      <td>NaN</td>\n",
       "      <td>Association &amp; Fees|Rec Center Fee Y/N|N;Associ...</td>\n",
       "      <td>201 E GENEVA DR</td>\n",
       "    </tr>\n",
       "  </tbody>\n",
       "</table>\n",
       "<p>2 rows × 106 columns</p>\n",
       "</div>"
      ],
      "text/plain": [
       "   List Number                 Agency Name    Agency Phone Listing Agent  \\\n",
       "0      6073839    Casa Mia Realty (cmia01)  (480) 283-7143   Doris Ramos   \n",
       "1      6063111  Realty Executives (reax26)  (480) 963-6000        Mo Yaw   \n",
       "\n",
       "  Co-Listing Agent Property Type  Card Format              Book Section  \\\n",
       "0              NaN   Residential  Residential  Single Family - Detached   \n",
       "1     Courtney Yaw   Residential  Residential  Single Family - Detached   \n",
       "\n",
       "   Selling Agency  Selling Agent  ...  Off Market Date  \\\n",
       "0             NaN            NaN  ...              NaN   \n",
       "1             NaN            NaN  ...              NaN   \n",
       "\n",
       "               Cross Street              Subdivision Dwelling Styles  \\\n",
       "0  Miller Rd & McKellips Rd        MY-O-MY ESTATES 2        Detached   \n",
       "1           MILL & SOUTHERN  NU-VISTA 4 LOTS 196-258        Detached   \n",
       "\n",
       "   On Market Date                                          Photo URL  \\\n",
       "0             NaN  http://photos.flexmls.com/az/20200505055057816...   \n",
       "1             NaN  http://photos.flexmls.com/az/20200407132351975...   \n",
       "\n",
       "  Days on Market Rooms                                           Features  \\\n",
       "0             42   NaN  Association & Fees|HOA Y/N|N;Association & Fee...   \n",
       "1             50   NaN  Association & Fees|Rec Center Fee Y/N|N;Associ...   \n",
       "\n",
       "           Address  \n",
       "0  1244 E SUSAN LN  \n",
       "1  201 E GENEVA DR  \n",
       "\n",
       "[2 rows x 106 columns]"
      ]
     },
     "execution_count": 13,
     "metadata": {},
     "output_type": "execute_result"
    }
   ],
   "source": [
    "df_new = pd.concat([df, address_df], axis=1, sort=False)\n",
    "df_new.head(2)"
   ]
  },
  {
   "cell_type": "markdown",
   "metadata": {},
   "source": [
    "# How to show all column names"
   ]
  },
  {
   "cell_type": "code",
   "execution_count": 19,
   "metadata": {},
   "outputs": [
    {
     "name": "stdout",
     "output_type": "stream",
     "text": [
      "List Number\n",
      "Agency Name\n",
      "Agency Phone\n",
      "Listing Agent\n",
      "Co-Listing Agent\n",
      "Property Type\n",
      "Card Format\n",
      "Book Section\n",
      "Selling Agency\n",
      "Selling Agent\n",
      "Co-Selling Agent\n",
      "End Date\n",
      "Dwelling Type\n",
      "List Date\n",
      "Close of Escrow Date\n",
      "Under Contract Date\n",
      "Fallthrough Date\n",
      "Status\n",
      "Status Change Date\n",
      "Temp Off Market Date\n",
      "Cancel Date\n",
      "UCB or CCBS\n",
      "Original List Price\n",
      "List Price\n",
      "Sold Price\n",
      "Price/SqFt\n",
      "Map Code/Grid\n",
      "House Number\n",
      "Bldg Number\n",
      "Compass\n",
      "Street Name\n",
      "Unit #\n",
      "St Dir Sfx\n",
      "St Suffix\n",
      "Sub Agent $/%\n",
      "City/Town Code\n",
      "State/Province\n",
      "County Code\n",
      "Country\n",
      "Zip Code\n",
      "Geo Lat\n",
      "Geo Lon\n",
      "Approx SQFT\n",
      "Bedrooms Plus\n",
      "Year Built\n",
      "Buyer Broker $/%\n",
      "Apx Lot Size Range\n",
      "Buyer/Broker\n",
      "Subagents\n",
      "Variable Commission\n",
      "# Bedrooms\n",
      "# Bathrooms\n",
      "# of Interior Levels\n",
      "Exterior Stories\n",
      "Source Apx Lot SqFt\n",
      "Pool\n",
      "Taxes\n",
      "Tax Year\n",
      "Legal Description (Abbrev)\n",
      "Public Remarks\n",
      "Private Rmks - DND2\n",
      "Assessor Number\n",
      "Legal\n",
      "Directions\n",
      "Ownr/Occ Name - DND2\n",
      "Owner/Occ Phn - DND2\n",
      "Marketing Name\n",
      "Builder Name\n",
      "mod_timestamp\n",
      "Assessor Parcel Ltr\n",
      "Out of Area Schl Dst\n",
      "Source of SqFt\n",
      "Tax Municipality\n",
      "Auction\n",
      "Horses\n",
      "Ownership\n",
      "Hundred Block\n",
      "Type\n",
      "Elementary School\n",
      "Jr. High School\n",
      "High School\n",
      "Elem School Dist #\n",
      "High School Dist #\n",
      "Model\n",
      "Approx SqFt Range\n",
      "Hndrd Blk Directionl\n",
      "Zip4\n",
      "Week Avail Timeshare\n",
      "Comp to Subagent\n",
      "Comp to Buyer Broker\n",
      "Other Compensation\n",
      "Guest House SqFt\n",
      "Approx Lot SqFt\n",
      "Assessor's Book #\n",
      "Assessor's Map #\n",
      "Assessor's Parcel #\n",
      "Off Market Date\n",
      "Cross Street\n",
      "Subdivision\n",
      "Dwelling Styles\n",
      "On Market Date\n",
      "Photo URL\n",
      "Days on Market\n",
      "Rooms\n",
      "Features\n",
      "Address\n"
     ]
    }
   ],
   "source": [
    "for i in df_new.columns:\n",
    "    print (i)"
   ]
  },
  {
   "cell_type": "markdown",
   "metadata": {},
   "source": [
    "# Convert Pandas DF to dictionary (for each row)"
   ]
  },
  {
   "cell_type": "code",
   "execution_count": 21,
   "metadata": {},
   "outputs": [
    {
     "data": {
      "text/html": [
       "<div>\n",
       "<style scoped>\n",
       "    .dataframe tbody tr th:only-of-type {\n",
       "        vertical-align: middle;\n",
       "    }\n",
       "\n",
       "    .dataframe tbody tr th {\n",
       "        vertical-align: top;\n",
       "    }\n",
       "\n",
       "    .dataframe thead th {\n",
       "        text-align: right;\n",
       "    }\n",
       "</style>\n",
       "<table border=\"1\" class=\"dataframe\">\n",
       "  <thead>\n",
       "    <tr style=\"text-align: right;\">\n",
       "      <th></th>\n",
       "      <th>Geo Lat</th>\n",
       "      <th>Geo Lon</th>\n",
       "      <th>List Price</th>\n",
       "    </tr>\n",
       "  </thead>\n",
       "  <tbody>\n",
       "    <tr>\n",
       "      <th>0</th>\n",
       "      <td>33.447479</td>\n",
       "      <td>-111.918377</td>\n",
       "      <td>319900</td>\n",
       "    </tr>\n",
       "    <tr>\n",
       "      <th>1</th>\n",
       "      <td>33.394776</td>\n",
       "      <td>-111.936551</td>\n",
       "      <td>350000</td>\n",
       "    </tr>\n",
       "  </tbody>\n",
       "</table>\n",
       "</div>"
      ],
      "text/plain": [
       "     Geo Lat     Geo Lon  List Price\n",
       "0  33.447479 -111.918377      319900\n",
       "1  33.394776 -111.936551      350000"
      ]
     },
     "execution_count": 21,
     "metadata": {},
     "output_type": "execute_result"
    }
   ],
   "source": [
    "df_long_lat = df_new[['Geo Lat','Geo Lon']]\n",
    "df_price = df_new[['List Price']]\n",
    "house = pd.concat([df_long_lat, df_price], axis=1, sort=False)\n",
    "house.head(2)"
   ]
  },
  {
   "cell_type": "code",
   "execution_count": 22,
   "metadata": {},
   "outputs": [],
   "source": [
    "house_dict = house.to_dict(orient= 'records')"
   ]
  },
  {
   "cell_type": "code",
   "execution_count": 23,
   "metadata": {},
   "outputs": [
    {
     "data": {
      "text/plain": [
       "[{'Geo Lat': 33.447479, 'Geo Lon': -111.918377, 'List Price': 319900},\n",
       " {'Geo Lat': 33.394776, 'Geo Lon': -111.936551, 'List Price': 350000},\n",
       " {'Geo Lat': 33.418234000000005,\n",
       "  'Geo Lon': -111.89370600000001,\n",
       "  'List Price': 299900},\n",
       " {'Geo Lat': 33.412405, 'Geo Lon': -111.93626100000002, 'List Price': 650000},\n",
       " {'Geo Lat': 33.369314, 'Geo Lon': -111.907486, 'List Price': 379000},\n",
       " {'Geo Lat': 33.454991, 'Geo Lon': -111.93183400000001, 'List Price': 422500},\n",
       " {'Geo Lat': 33.376458, 'Geo Lon': -111.90231299999999, 'List Price': 350000},\n",
       " {'Geo Lat': 33.421374, 'Geo Lon': -111.95948999999999, 'List Price': 379500},\n",
       " {'Geo Lat': 33.33829, 'Geo Lon': -111.94040600000001, 'List Price': 400000},\n",
       " {'Geo Lat': 33.329929, 'Geo Lon': -111.91629499999999, 'List Price': 695000},\n",
       " {'Geo Lat': 33.369894, 'Geo Lon': -111.95364099999999, 'List Price': 339900},\n",
       " {'Geo Lat': 33.405248, 'Geo Lon': -111.931293, 'List Price': 529999},\n",
       " {'Geo Lat': 33.402158, 'Geo Lon': -111.904604, 'List Price': 424900},\n",
       " {'Geo Lat': 33.397014, 'Geo Lon': -111.88578799999999, 'List Price': 383000},\n",
       " {'Geo Lat': 33.348559, 'Geo Lon': -111.915218, 'List Price': 685000},\n",
       " {'Geo Lat': 33.371412, 'Geo Lon': -111.931789, 'List Price': 499800},\n",
       " {'Geo Lat': 33.396951, 'Geo Lon': -111.937054, 'List Price': 350000},\n",
       " {'Geo Lat': 33.427377, 'Geo Lon': -111.956108, 'List Price': 230500},\n",
       " {'Geo Lat': 33.362857, 'Geo Lon': -111.914679, 'List Price': 275000},\n",
       " {'Geo Lat': 33.32537, 'Geo Lon': -111.928604, 'List Price': 460000},\n",
       " {'Geo Lat': 33.347786, 'Geo Lon': -111.931776, 'List Price': 749000}]"
      ]
     },
     "execution_count": 23,
     "metadata": {},
     "output_type": "execute_result"
    }
   ],
   "source": [
    "house_dict"
   ]
  },
  {
   "cell_type": "code",
   "execution_count": null,
   "metadata": {},
   "outputs": [],
   "source": []
  }
 ],
 "metadata": {
  "kernelspec": {
   "display_name": "Python 3",
   "language": "python",
   "name": "python3"
  },
  "language_info": {
   "codemirror_mode": {
    "name": "ipython",
    "version": 3
   },
   "file_extension": ".py",
   "mimetype": "text/x-python",
   "name": "python",
   "nbconvert_exporter": "python",
   "pygments_lexer": "ipython3",
   "version": "3.7.6"
  },
  "toc": {
   "base_numbering": 1,
   "nav_menu": {},
   "number_sections": true,
   "sideBar": true,
   "skip_h1_title": false,
   "title_cell": "Table of Contents",
   "title_sidebar": "Contents",
   "toc_cell": false,
   "toc_position": {
    "height": "calc(100% - 180px)",
    "left": "10px",
    "top": "150px",
    "width": "286.705px"
   },
   "toc_section_display": true,
   "toc_window_display": true
  }
 },
 "nbformat": 4,
 "nbformat_minor": 4
}
