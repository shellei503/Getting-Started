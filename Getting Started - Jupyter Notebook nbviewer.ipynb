{
 "cells": [
  {
   "cell_type": "markdown",
   "source": [
    "<a id='toc'></a>"
   ],
   "metadata": {
    "collapsed": false
   }
  },
  {
   "cell_type": "markdown",
   "source": [
    "<a id='toc'></a>\n",
    "***\n",
    "# <font color=blue> Table of Contents </font>\n",
    "***"
   ],
   "metadata": {
    "collapsed": false
   }
  },
  {
   "cell_type": "markdown",
   "source": [
    "[**Insert Image or Table**](#insert_image_or_table)\n",
    "> [Insert Table](#insert_table)<br>\n",
    "> [Insert Images (with url)](#insert_images_url)<br>\n",
    "> [Insert Images (local)](#insert_images_local)<br>\n",
    "> [Insert YouTube](#insert_yt)<br>\n",
    "\n",
    "[**Basic Formatting**](#insert_image_or_table)<br>\n",
    "> [Bold](#bold)<br>\n",
    "> [Italics](#italics)<br>\n",
    "> [Bold and Italics](#bold_and_italics)<br>\n",
    "> [Color Text](#color_text)<br>\n",
    "> [Highlight Text](#highlight)<br>\n",
    "> [Font Family](#font_family)<br>\n",
    "\n",
    "[**Basic LaTex Math**](#basic_latex_math)<br>\n",
    "> [Inline Math](#inline)<br>\n",
    "> [Centered Math](#centered)<br>\n",
    "> [Subscripts](#subscripts)<br>\n",
    "> [Summations](#summations)<br>\n",
    "> [Equality Signs](#equality_signs)<br>\n",
    "> [For All](#forall)<br>\n",
    "> [Element Of](#element_of)<br>\n",
    "> [Union](#union)<br>\n",
    "> [Spaces in LaTeX](#spaces_in_latex)<br>\n",
    "\n",
    "[**Mathematical Formulation**](#mathematical_formulation)<br>\n",
    "> [Indices and Sets](#indices)<br>\n",
    "> [Parameters](#parameters)<br>\n",
    "> [Decision Variables](#dv)<br>\n",
    "> [Objective Function](#of)<br>\n",
    "> [Constraints](#constraints)<br>\n",
    "\n",
    "[**Colored Note Boxes**](#colored_note_boxes)<br>\n",
    "> [Blue Box (info)](#blue_box)<br>\n",
    "> [Yellow Box (warning)](#yellow_box)<br>\n",
    "> [Green Box (success)](#green_box)<br>\n",
    "> [Red Box (danger)](#red_box)<br>\n",
    "\n",
    "[**Organization and Callouts**](#organization_and_callouts)<br>\n",
    "> [Break Lines](#break_lines)<br>\n",
    "> [Inline Code](#inline_code)<br>\n",
    "> [Block Code](#block_code)<br>\n",
    "> [Code with Syntax Highlighting](#syntax_highlighting)<br>\n",
    "> [Indented Quoting](#indented_quoting)<br>\n",
    "> [Multiple Indented Quoting (Blockquotes)](#blockquotes)<br>\n",
    "> [Alert Info Box](#blue_box)<br>"
   ],
   "metadata": {
    "collapsed": false
   }
  },
  {
   "cell_type": "markdown",
   "source": [
    "<a id='insert_image_or_table'></a>\n",
    "***\n",
    "# <font color=blue> Insert Image or Table </font>\n",
    "***"
   ],
   "metadata": {
    "collapsed": false
   }
  },
  {
   "cell_type": "markdown",
   "source": [
    "<a id='insert_table'></a>\n",
    "## Insert Table"
   ],
   "metadata": {
    "collapsed": false
   }
  },
  {
   "cell_type": "markdown",
   "source": [
    "|Name|Address|Salary| \n",
    "|-----|-------|------| \n",
    "|Hanna|Brisbane|4000| \n",
    "|Adam|Sydney|6000|"
   ],
   "metadata": {
    "collapsed": false
   }
  },
  {
   "cell_type": "markdown",
   "source": [
    "<pre>\n",
    "|Name|Address|Salary| \n",
    "|-----|-------|------| \n",
    "|Hanna|Brisbane|4000| \n",
    "|Adam|Sydney|6000|\n",
    "</pre>"
   ],
   "metadata": {
    "collapsed": false
   }
  },
  {
   "cell_type": "markdown",
   "source": [
    "<a id='insert_images_url'></a>\n",
    "## Insert Images (with url)"
   ],
   "metadata": {
    "collapsed": false
   }
  },
  {
   "cell_type": "markdown",
   "source": [
    "![alt text here](https://encrypted-tbn1.gstatic.com/shopping?q=tbn:ANd9GcRDViY_YP8gmDnX6fGHUmsmvXnfG6dY3WraNVTm4CdxSa8b2FbMdo2X_dsuUu9oWA&usqp=CAc)"
   ],
   "metadata": {
    "collapsed": false
   }
  },
  {
   "cell_type": "markdown",
   "source": [
    "<pre>\n",
    "![alt text here](https://encrypted-tbn1.gstatic.com/shopping?q=tbn:ANd9GcRDViY_YP8gmDnX6fGHUmsmvXnfG6dY3WraNVTm4CdxSa8b2FbMdo2X_dsuUu9oWA&usqp=CAc)\n",
    "</pre>"
   ],
   "metadata": {
    "collapsed": false
   }
  },
  {
   "cell_type": "markdown",
   "source": [
    "[**Return to TOC**](#toc)"
   ],
   "metadata": {
    "collapsed": false
   }
  },
  {
   "cell_type": "markdown",
   "source": [
    "<a id='insert_images_local'></a>\n",
    "## Insert Images (local)\n",
    "- this example assumes image is saved in same folder as the notebook"
   ],
   "metadata": {
    "collapsed": false
   }
  },
  {
   "cell_type": "markdown",
   "source": [
    "<div>\n",
    "<img src=\"jupyter_img_14.png\" width=\"900\"/>\n",
    "</div>"
   ],
   "metadata": {
    "collapsed": false
   }
  },
  {
   "cell_type": "markdown",
   "source": [
    "<pre>\n",
    "&lt;div&gt;\n",
    "&lt;img src=\"jupyter_img_14.png\" width=\"900\"/&gt;\n",
    "&lt;/div&gt;\n",
    "</pre>"
   ],
   "metadata": {
    "collapsed": false
   }
  },
  {
   "cell_type": "markdown",
   "source": [
    "[**Return to TOC**](#toc)"
   ],
   "metadata": {
    "collapsed": false
   }
  },
  {
   "cell_type": "markdown",
   "source": [
    "<a id='insert_yt'></a>\n",
    "## Insert YouTube\n",
    "\n",
    "[![Any decription here](https://i.ytimg.com/vi/WIWhQpR-CjY/hqdefault.jpg?sqp=-oaymwEXCNACELwBSFryq4qpAwkIARUAAIhCGAE=&rs=AOn4CLAhQ0lamJ4egnDzhoUMvbl3CvwIlQ)](https://www.youtube.com/playlist?list=PLgA4wLGrqI-ll9OSJmR5nU4lV4_aNTgKx)\n",
    "\n",
    "<pre>\n",
    "[![YouTube Video Link](https://i.ytimg.com/vi/WIWhQpR-CjY/hqdefault.jpg?sqp=-oaymwEXCNACELwBSFryq4qpAwkIARUAAIhCGAE=&rs=AOn4CLAhQ0lamJ4egnDzhoUMvbl3CvwIlQ)](https://www.youtube.com/playlist?list=PLgA4wLGrqI-ll9OSJmR5nU4lV4_aNTgKx)\n",
    "</pre>\n",
    "\n",
    "<pre>\n",
    "[![Any decription here](link_to_image)](link_to_video)\n",
    "</pre>\n",
    "\n",
    "[**Return to TOC**](#toc)"
   ],
   "metadata": {
    "collapsed": false
   }
  },
  {
   "cell_type": "markdown",
   "source": [
    "<a id='basic_formatting'></a>\n",
    "\n",
    "***\n",
    "# <font color=blue> Basic Formatting  </font>\n",
    "***\n",
    "\n",
    "<a id='bold'></a>\n",
    "\n",
    "**bold_text**\n",
    "\n",
    "<pre>\n",
    "**bold_text**\n",
    "</pre>\n",
    "[**Return to TOC**](#toc)\n",
    "\n",
    "<a id='italics'></a>\n",
    "## Italics"
   ],
   "metadata": {
    "collapsed": false
   }
  },
  {
   "cell_type": "markdown",
   "source": [
    "*italics_text*"
   ],
   "metadata": {
    "collapsed": false
   }
  },
  {
   "cell_type": "markdown",
   "source": [
    "<pre>\n",
    "*italics_text*\n",
    "</pre>"
   ],
   "metadata": {
    "collapsed": false
   }
  },
  {
   "cell_type": "markdown",
   "source": [
    "[**Return to TOC**](#toc)"
   ],
   "metadata": {
    "collapsed": false
   }
  },
  {
   "cell_type": "markdown",
   "source": [
    "<a id='bold_and_italics'></a>"
   ],
   "metadata": {
    "collapsed": false
   }
  },
  {
   "cell_type": "markdown",
   "source": [
    "## Bold and Italics"
   ],
   "metadata": {
    "collapsed": false
   }
  },
  {
   "cell_type": "markdown",
   "source": [
    "***bold_and_italics_text***"
   ],
   "metadata": {
    "collapsed": false
   }
  },
  {
   "cell_type": "markdown",
   "source": [
    "<pre>\n",
    "***bold_and_italics_text***\n",
    "</pre>"
   ],
   "metadata": {
    "collapsed": false
   }
  },
  {
   "cell_type": "markdown",
   "source": [
    "[**Return to TOC**](#toc)"
   ],
   "metadata": {
    "collapsed": false
   }
  },
  {
   "cell_type": "markdown",
   "source": [
    "<a id='color_text'></a>"
   ],
   "metadata": {
    "collapsed": false
   }
  },
  {
   "cell_type": "markdown",
   "source": [
    "## Color Text"
   ],
   "metadata": {
    "collapsed": false
   }
  },
  {
   "cell_type": "markdown",
   "source": [
    "<font color=red> red_text </font> <br>\n",
    "<font color=orange> orange_text </font> <br>\n",
    "<font color=yellow> yellow_text </font> <br>\n",
    "<font color=green> green_text </font> <br>\n",
    "<font color=blue> blue_text </font> <br>\n",
    "<font color=indigo> indigo_text </font> <br>\n",
    "<font color=violet> violet_text </font> <br>"
   ],
   "metadata": {
    "collapsed": false
   }
  },
  {
   "cell_type": "markdown",
   "source": [
    "<font color=pink> pink_text </font> <br>\n",
    "<font color=gray> gray_text </font> <br>\n",
    "<font color=purple> purple_text </font> <br>\n",
    "<font color=brown> brown_text </font> <br>\n",
    "<font color=navy> navy_text </font> <br>"
   ],
   "metadata": {
    "collapsed": false
   }
  },
  {
   "cell_type": "markdown",
   "source": [
    "&lt;font color=red&gt; red_text &lt;/font&gt; <br>\n",
    "&lt;font color=orange&gt; orange_text &lt;/font&gt; <br>\n",
    "&lt;font color=yellow&gt; yellow_text &lt;/font&gt; <br>\n",
    "&lt;font color=green&gt; green_text &lt;/font&gt; <br>\n",
    "&lt;font color=blue&gt; blue_text &lt;/font&gt; <br>\n",
    "&lt;font color=indigo&gt; indigo_text &lt;/font&gt; <br>\n",
    "\n",
    "\n",
    "&lt;font color=violet&gt; violet_text &lt;/font&gt; <br>\n",
    "&lt;font color=pink&gt; pink_text &lt;/font&gt; <br>\n",
    "&lt;font color=gray&gt; gray_text &lt;/font&gt; <br>\n",
    "&lt;font color=purple&gt; purple_text &lt;/font&gt; <br>\n",
    "&lt;font color=brown&gt; brown_text &lt;/font&gt; <br>\n",
    "&lt;font color=navy&gt; navy_text &lt;/font&gt; <br>"
   ],
   "metadata": {
    "collapsed": false
   }
  },
  {
   "cell_type": "markdown",
   "source": [
    "[**Return to TOC**](#toc)"
   ],
   "metadata": {
    "collapsed": false
   }
  },
  {
   "cell_type": "markdown",
   "source": [
    "<a id='highlight'></a>"
   ],
   "metadata": {
    "collapsed": false
   }
  },
  {
   "cell_type": "markdown",
   "source": [
    "***\n",
    "## Highlight Text</font>\n",
    "***"
   ],
   "metadata": {
    "collapsed": false
   }
  },
  {
   "cell_type": "markdown",
   "source": [
    "<span style='background :red'> red_highlight </span> <br>\n",
    "<span style='background :orange'> orange_highlight </span> <br>\n",
    "<span style='background :yellow'> yellow_highlight </span> <br>\n",
    "<span style='background :green'> green_highlight </span> <br>\n",
    "<span style='background :blue'> blue_highlight </span> <br>\n",
    "<span style='background :indigo'> indigo_highlight </span> <br>\n",
    "<span style='background :violet'> violet_highlight </span> <br>\n",
    "\n",
    "---\n",
    "\n",
    "<span style='background :gray' > grey_highlight </span><br>\n",
    "<span style='background :purple'> purple_highlight </span> <br>\n",
    "<span style='background :brown'> brown_highlight </span> <br>\n",
    "<span style='background :navy'> navy_highlight </span> <br>"
   ],
   "metadata": {
    "collapsed": false
   }
  },
  {
   "cell_type": "markdown",
   "source": [
    "<pre>\n",
    "&lt;span style='background :red'> red_highlight &lt;/span&gt;\n",
    "&lt;span style='background :orange'> orange_highlight &lt;/span&gt;\n",
    "&lt;span style='background :yellow'> yellow_highlight &lt;/span&gt;\n",
    "&lt;span style='background :green'> green_highlight &lt;/span&gt;\n",
    "&lt;span style='background :blue'> blue_highlight &lt;/span&gt;\n",
    "&lt;span style='background :indigo'> indigo_highlight &lt;/span&gt;\n",
    "&lt;span style='background :violet'> violet_highlight &lt;/span&gt;\n",
    "\n",
    "&lt;span style='background :gray'> gray_highlight &lt;/span&gt;\n",
    "&lt;span style='background :purple'> purple_highlight &lt;/span&gt;\n",
    "&lt;span style='background :brown'> brown_highlight &lt;/span&gt;\n",
    "&lt;span style='background :navy'> navy_highlight &lt;/span&gt;\n",
    "</pre>\n"
   ],
   "metadata": {
    "collapsed": false
   }
  },
  {
   "cell_type": "markdown",
   "source": [
    "[**Return to TOC**](#toc)"
   ],
   "metadata": {
    "collapsed": false
   }
  },
  {
   "cell_type": "markdown",
   "source": [
    "<a id='font_family'></a>"
   ],
   "metadata": {
    "collapsed": false
   }
  },
  {
   "cell_type": "markdown",
   "source": [
    "## Font Family"
   ],
   "metadata": {
    "collapsed": false
   }
  },
  {
   "cell_type": "markdown",
   "source": [
    "<span style='font-family:Calibri'> Calibri</span><br>\n",
    "<span style='font-family:Courier'> Courier</span><br>\n",
    "<span style='font-family:\"Courier New\"'> Courier_New</span><br>\n",
    "<span style='font-family:Helvetica'> Helvetica</span><br>\n",
    "<span style='font-family:Georgia'> Georgia</span><br>\n",
    "<span style='font-family:\"Times New Roman\"'> Times_New_Roman</span><br>\n",
    "<span style='font-family:serif'> Serif</span><br>\n",
    "<span style='font-family:sans-serif'> Sans-Serif</span><br>\n",
    "<span style='font-family:\"American Typewriter'> American_Typewriter</span><br>\n",
    "<span style='font-family:\"Bradley Hand\"'> Bradley_Hand</span><br>\n",
    "<span style='font-family:\"Cambria Math\"'> Cambria Math</span><br>\n",
    "<span style='font-family:\"Chalkboard\"'> Chalkboard</span><br>\n",
    "<span style='font-family:\"Chalkboard SE\"'> Chalkboard_SE</span><br>\n",
    "<span style='font-family:\"Chalkduster\"'> Chalkdusterv<br>\n",
    "\n"
   ],
   "metadata": {
    "collapsed": false
   }
  },
  {
   "cell_type": "markdown",
   "source": [
    "<pre>\n",
    "&lt;span style='font-family:Calibri'&gt; Calibri&lt;/span&gt;\n",
    "&lt;span style='font-family:Courier'&gt; Courier&lt;/span&gt;\n",
    "&lt;span style='font-family:\"Courier New\"'&gt; Courier_New&lt;/span&gt;\n",
    "&lt;span style='font-family:Helvetica'&gt; Helvetica&lt;/span&gt;\n",
    "&lt;span style='font-family:Georgia'&gt; Georgia&lt;/span&gt;\n",
    "&lt;span style='font-family:\"Times New Roman\"'&gt; Times_New_Roman&lt;/span&gt;\n",
    "&lt;span style='font-family:serif'&gt; Serif&lt;/span&gt;\n",
    "&lt;span style='font-family:sans-serif'&gt; Sans-Serif&lt;/span&gt;\n",
    "&lt;span style='font-family:\"American Typewriter'&gt; American_Typewriter&lt;/span&gt;\n",
    "&lt;span style='font-family:\"Bradley Hand\"'&gt; Bradley_Hand&lt;/span&gt;\n",
    "&lt;span style='font-family:\"Cambria Math\"'&gt; Cambria Math&lt;/span&gt;\n",
    "&lt;span style='font-family:\"Chalkboard\"'&gt; Chalkboard&lt;/span&gt;\n",
    "&lt;span style='font-family:\"Chalkboard SE\"'&gt; Chalkboard_SE&lt;/span&gt;\n",
    "&lt;span style='font-family:\"Chalkduster\"'&gt; Chalkdusterv&lt;br&gt;\n",
    "<\\pre>"
   ],
   "metadata": {
    "collapsed": false
   }
  },
  {
   "cell_type": "markdown",
   "source": [
    "[**Return to TOC**](#toc)"
   ],
   "metadata": {
    "collapsed": false
   }
  },
  {
   "cell_type": "markdown",
   "source": [
    "<a id='basic_latex_math'></a>"
   ],
   "metadata": {
    "collapsed": false
   }
  },
  {
   "cell_type": "markdown",
   "source": [
    "***\n",
    "# <font color=blue> Basic LaTex Math  </font>\n",
    "***"
   ],
   "metadata": {
    "collapsed": false
   }
  },
  {
   "cell_type": "markdown",
   "source": [
    "<a id='inline'></a>"
   ],
   "metadata": {
    "collapsed": false
   }
  },
  {
   "cell_type": "markdown",
   "source": [
    "## Inline Math\n",
    "- for inline text, start and end with **single**`$`"
   ],
   "metadata": {
    "collapsed": false
   }
  },
  {
   "cell_type": "markdown",
   "source": [
    "$x+y =z$"
   ],
   "metadata": {
    "collapsed": false
   }
  },
  {
   "cell_type": "markdown",
   "source": [
    "<pre>\n",
    "$x+y =z$\n",
    "</pre>"
   ],
   "metadata": {
    "collapsed": false
   }
  },
  {
   "cell_type": "markdown",
   "source": [
    "[**Return to TOC**](#toc)"
   ],
   "metadata": {
    "collapsed": false
   }
  },
  {
   "cell_type": "markdown",
   "source": [
    "<a id='centered'></a>"
   ],
   "metadata": {
    "collapsed": false
   }
  },
  {
   "cell_type": "markdown",
   "source": [
    "## Centered Math\n",
    "- for centered text, start and end with **double** `$$`\n"
   ],
   "metadata": {
    "collapsed": false
   }
  },
  {
   "cell_type": "markdown",
   "source": [
    "$$\n",
    "x+y =z\n",
    "$$"
   ],
   "metadata": {
    "collapsed": false
   }
  },
  {
   "cell_type": "markdown",
   "source": [
    "<pre>\n",
    "$$\n",
    "x+y =z\n",
    "$$\n",
    "</pre>"
   ],
   "metadata": {
    "collapsed": false
   }
  },
  {
   "cell_type": "markdown",
   "source": [
    "[**Return to TOC**](#toc)"
   ],
   "metadata": {
    "collapsed": false
   }
  },
  {
   "cell_type": "markdown",
   "source": [
    "<a id='subscripts'></a>"
   ],
   "metadata": {
    "collapsed": false
   }
  },
  {
   "cell_type": "markdown",
   "source": [
    "## Subscripts\n",
    "- Use brackets if subscript has more than one character"
   ],
   "metadata": {
    "collapsed": false
   }
  },
  {
   "cell_type": "markdown",
   "source": [
    "$x_{ij}$"
   ],
   "metadata": {
    "collapsed": false
   }
  },
  {
   "cell_type": "markdown",
   "source": [
    "<pre>\n",
    "$x_{ij}$\n",
    "</pre>"
   ],
   "metadata": {
    "collapsed": false
   }
  },
  {
   "cell_type": "markdown",
   "source": [
    "[**Return to TOC**](#toc)"
   ],
   "metadata": {
    "collapsed": false
   }
  },
  {
   "cell_type": "markdown",
   "source": [
    "<a id='summations'></a>"
   ],
   "metadata": {
    "collapsed": false
   }
  },
  {
   "cell_type": "markdown",
   "source": [
    "## Summations\n",
    "- These look better centered vs inline"
   ],
   "metadata": {
    "collapsed": false
   }
  },
  {
   "cell_type": "markdown",
   "source": [
    "$$\n",
    "\\sum_{i=1}^{I}\n",
    "$$"
   ],
   "metadata": {
    "collapsed": false
   }
  },
  {
   "cell_type": "markdown",
   "source": [
    "<pre>\n",
    "$$\n",
    "\\sum_{i=1}^{I}\n",
    "$$\n",
    "</pre>"
   ],
   "metadata": {
    "collapsed": false
   }
  },
  {
   "cell_type": "markdown",
   "source": [
    "[**Return to TOC**](#toc)"
   ],
   "metadata": {
    "collapsed": false
   }
  },
  {
   "cell_type": "markdown",
   "source": [
    "<a id='equality_signs'></a>"
   ],
   "metadata": {
    "collapsed": false
   }
  },
  {
   "cell_type": "markdown",
   "source": [
    "## Equality Signs"
   ],
   "metadata": {
    "collapsed": false
   }
  },
  {
   "cell_type": "markdown",
   "source": [
    "$\\geq$<br>\n",
    "$\\leq$<br>\n",
    "$\\neq$<br>\n"
   ],
   "metadata": {
    "collapsed": false
   }
  },
  {
   "cell_type": "markdown",
   "source": [
    "<pre>\n",
    "$\\geq$\n",
    "$\\leq$\n",
    "$\\neq$\n",
    "</pre>"
   ],
   "metadata": {
    "collapsed": false
   }
  },
  {
   "cell_type": "markdown",
   "source": [
    "[**Return to TOC**](#toc)"
   ],
   "metadata": {
    "collapsed": false
   }
  },
  {
   "cell_type": "markdown",
   "source": [
    "<a id='forall'></a>"
   ],
   "metadata": {
    "collapsed": false
   }
  },
  {
   "cell_type": "markdown",
   "source": [
    "## For All"
   ],
   "metadata": {
    "collapsed": false
   }
  },
  {
   "cell_type": "markdown",
   "source": [
    "$\n",
    "\\forall\n",
    "$"
   ],
   "metadata": {
    "collapsed": false
   }
  },
  {
   "cell_type": "markdown",
   "source": [
    "<pre>\n",
    "$\\forall$\n",
    "</pre>"
   ],
   "metadata": {
    "collapsed": false
   }
  },
  {
   "cell_type": "markdown",
   "source": [
    "[**Return to TOC**](#toc)"
   ],
   "metadata": {
    "collapsed": false
   }
  },
  {
   "cell_type": "markdown",
   "source": [
    "<a id='element_of'></a>"
   ],
   "metadata": {
    "collapsed": false
   }
  },
  {
   "cell_type": "markdown",
   "source": [
    "## Element Of"
   ],
   "metadata": {
    "collapsed": false
   }
  },
  {
   "cell_type": "markdown",
   "source": [
    "$\n",
    "\\in\n",
    "$"
   ],
   "metadata": {
    "collapsed": false
   }
  },
  {
   "cell_type": "markdown",
   "source": [
    "<pre>\n",
    "$\\in$\n",
    "</pre>"
   ],
   "metadata": {
    "collapsed": false
   }
  },
  {
   "cell_type": "markdown",
   "source": [
    "[**Return to TOC**](#toc)"
   ],
   "metadata": {
    "collapsed": false
   }
  },
  {
   "cell_type": "markdown",
   "source": [
    "<a id='union'></a>"
   ],
   "metadata": {
    "collapsed": false
   }
  },
  {
   "cell_type": "markdown",
   "source": [
    "## Union"
   ],
   "metadata": {
    "collapsed": false
   }
  },
  {
   "cell_type": "markdown",
   "source": [
    "$\n",
    "\\cup\n",
    "$"
   ],
   "metadata": {
    "collapsed": false
   }
  },
  {
   "cell_type": "markdown",
   "source": [
    "<pre>\n",
    "$\\cup$\n",
    "</pre>"
   ],
   "metadata": {
    "collapsed": false
   }
  },
  {
   "cell_type": "markdown",
   "source": [
    "[**Return to TOC**](#toc)"
   ],
   "metadata": {
    "collapsed": false
   }
  },
  {
   "cell_type": "markdown",
   "source": [
    "<a id='spaces_in_latex'></a>"
   ],
   "metadata": {
    "collapsed": false
   }
  },
  {
   "cell_type": "markdown",
   "source": [
    "## Spaces in LaTeX"
   ],
   "metadata": {
    "collapsed": false
   }
  },
  {
   "cell_type": "markdown",
   "source": [
    "1. XL\n",
    "2. L\n",
    "3. M\n",
    "4. S\n",
    "5. XS"
   ],
   "metadata": {
    "collapsed": false
   }
  },
  {
   "cell_type": "markdown",
   "source": [
    "1. $hello \\qquad world$<br>\n",
    "2. $hello \\enspace world$<br>\n",
    "3. $hello \\; world$<br>\n",
    "4. $hello \\: world$<br>\n",
    "5. XS - $hello \\, world$"
   ],
   "metadata": {
    "collapsed": false
   }
  },
  {
   "cell_type": "markdown",
   "source": [
    "<pre>\n",
    "$hello \\qquad world$\n",
    "$hello \\enspace world$\n",
    "$hello \\; world$\n",
    "$hello \\: world$\n",
    "$hello \\, world$\n",
    "</pre>"
   ],
   "metadata": {
    "collapsed": false
   }
  },
  {
   "cell_type": "markdown",
   "source": [
    "[**Return to TOC**](#toc)"
   ],
   "metadata": {
    "collapsed": false
   }
  },
  {
   "cell_type": "markdown",
   "source": [
    "<a id='mathematical_formulation'></a>"
   ],
   "metadata": {
    "collapsed": false
   }
  },
  {
   "cell_type": "markdown",
   "source": [
    "***\n",
    "# <font color=blue> Mathematical Formulation</font>\n",
    "***"
   ],
   "metadata": {
    "collapsed": false
   }
  },
  {
   "cell_type": "markdown",
   "source": [
    "<a id='indices'></a>"
   ],
   "metadata": {
    "collapsed": false
   }
  },
  {
   "cell_type": "markdown",
   "source": [
    "## Indices/Sets"
   ],
   "metadata": {
    "collapsed": false
   }
  },
  {
   "cell_type": "markdown",
   "source": [
    "<a id='indices_simple'></a>"
   ],
   "metadata": {
    "collapsed": false
   }
  },
  {
   "cell_type": "markdown",
   "source": [
    "#### <font color=purple> Simple Example  </font>\n",
    "Let $C$ represent the set of customer nodes, $c$\n",
    "\n",
    "$$\n",
    "C = \\{1, 2, ... , c\\}\n",
    "$$"
   ],
   "metadata": {
    "collapsed": false
   }
  },
  {
   "cell_type": "markdown",
   "source": [
    "<pre>\n",
    "Let $C$ represent the set of customer nodes, $c$\n",
    "\n",
    "$$\n",
    "C = \\{1, 2, ... , c\\}\n",
    "$$\n",
    "</pre>"
   ],
   "metadata": {
    "collapsed": false
   }
  },
  {
   "cell_type": "markdown",
   "source": [
    "<a id='indices_tuple'></a>"
   ],
   "metadata": {
    "collapsed": false
   }
  },
  {
   "cell_type": "markdown",
   "source": [
    "#### <font color=purple> Tuples  </font>\n",
    "Let $A$ represent the set of arcs, $a$, between each node $n$\n",
    "\n",
    "$$\n",
    "A = \\{(0,1),\\:(0,2),\\: ...\\:(n,n-1)\\} \\; \\; | \\; \\; A = \\{i,j \\in N^2 : i \\neq j \\}\n",
    "$$"
   ],
   "metadata": {
    "collapsed": false
   }
  },
  {
   "cell_type": "markdown",
   "source": [
    "<pre>\n",
    "Let $A$ represent the set of arcs, $a$, between each node $n$\n",
    "\n",
    "$$\n",
    "A = \\{(0,1),\\:(0,2),\\: ...\\:(n,n-1)\\} \\; \\; | \\; \\; A = \\{i,j \\in N^2 : i \\neq j \\}\n",
    "$$\n",
    "</pre>"
   ],
   "metadata": {
    "collapsed": false
   }
  },
  {
   "cell_type": "markdown",
   "source": [
    "<a id='indices_st'></a>"
   ],
   "metadata": {
    "collapsed": false
   }
  },
  {
   "cell_type": "markdown",
   "source": [
    "#### <font color=purple> Spacing for \"such that statements\"  </font>\n",
    "Let $N$ represent the set of nodes, $n$, where 0 represents the depot (starting node)\n",
    "\n",
    "$$\n",
    "N = \\{0,1,2,..., n\\} \\; \\; | \\; \\; N = \\{0\\}  \\cup C\n",
    "$$\n"
   ],
   "metadata": {
    "collapsed": false
   }
  },
  {
   "cell_type": "markdown",
   "source": [
    "<pre>\n",
    "Let $N$ represent the set of nodes, $n$, where 0 represents the depot (starting node)\n",
    "\n",
    "$$\n",
    "N = \\{0,1,2,..., n\\} \\; \\; | \\; \\; N = \\{0\\}  \\cup C\n",
    "$$\n",
    "</pre>"
   ],
   "metadata": {
    "collapsed": false
   }
  },
  {
   "cell_type": "markdown",
   "source": [
    "[**Return to TOC**](#toc)"
   ],
   "metadata": {
    "collapsed": false
   }
  },
  {
   "cell_type": "markdown",
   "source": [
    "<a id='parameters'></a>"
   ],
   "metadata": {
    "collapsed": false
   }
  },
  {
   "cell_type": "markdown",
   "source": [
    "## Parameters"
   ],
   "metadata": {
    "collapsed": false
   }
  },
  {
   "cell_type": "markdown",
   "source": [
    "Let $c_{ij}$ = distance (or cost) between node $i$ and $j$"
   ],
   "metadata": {
    "collapsed": false
   }
  },
  {
   "cell_type": "markdown",
   "source": [
    "<pre>\n",
    "Let $c_{ij}$ = distance (or cost) between node $i$ and $j$}\n",
    "</pre>"
   ],
   "metadata": {
    "collapsed": false
   }
  },
  {
   "cell_type": "markdown",
   "source": [
    "[**Return to TOC**](#toc)"
   ],
   "metadata": {
    "collapsed": false
   }
  },
  {
   "cell_type": "markdown",
   "source": [
    "<a id='dv'></a>"
   ],
   "metadata": {
    "collapsed": false
   }
  },
  {
   "cell_type": "markdown",
   "source": [
    "## Decision Variables"
   ],
   "metadata": {
    "collapsed": false
   }
  },
  {
   "cell_type": "markdown",
   "source": [
    "Let $x_{ij}$ = 1 if a trip is made on arc $(i,j) \\in A$, 0 otherwise"
   ],
   "metadata": {
    "collapsed": false
   }
  },
  {
   "cell_type": "markdown",
   "source": [
    "<pre>\n",
    "Let $x_{ij}$ = 1 if a trip is made on arc $(i,j) \\in A$, 0 otherwise\n",
    "</pre>"
   ],
   "metadata": {
    "collapsed": false
   }
  },
  {
   "cell_type": "markdown",
   "source": [
    "[**Return to TOC**](#toc)"
   ],
   "metadata": {
    "collapsed": false
   }
  },
  {
   "cell_type": "markdown",
   "source": [
    "<a id='of'></a>"
   ],
   "metadata": {
    "collapsed": false
   }
  },
  {
   "cell_type": "markdown",
   "source": [
    "## Objective Function"
   ],
   "metadata": {
    "collapsed": false
   }
  },
  {
   "cell_type": "markdown",
   "source": [
    "$Minimize: Z$\n",
    "\n",
    "$$\n",
    "Z = \\sum_{d=1}^D \\sum_{t=1}^T c_{dt}x_{dt}\n",
    "$$"
   ],
   "metadata": {
    "collapsed": false
   }
  },
  {
   "cell_type": "markdown",
   "source": [
    "<pre>\n",
    "$Minimize: Z$\n",
    "\n",
    "$$\n",
    "Z = \\sum_{d=1}^D \\sum_{t=1}^T c_{dt}x_{dt}\n",
    "$$\n",
    "</pre>\n"
   ],
   "metadata": {
    "collapsed": false
   }
  },
  {
   "cell_type": "markdown",
   "source": [
    "[**Return to TOC**](#toc)"
   ],
   "metadata": {
    "collapsed": false
   }
  },
  {
   "cell_type": "markdown",
   "source": [
    "<a id='math_forall_summation'></a>"
   ],
   "metadata": {
    "collapsed": false
   }
  },
  {
   "cell_type": "markdown",
   "source": [
    "<a id='constraints'></a>"
   ],
   "metadata": {
    "collapsed": false
   }
  },
  {
   "cell_type": "markdown",
   "source": [
    "## Constraints"
   ],
   "metadata": {
    "collapsed": false
   }
  },
  {
   "cell_type": "markdown",
   "source": [
    "$$\n",
    "\\sum_{i=1}^{I} x_ij < d_i\n",
    "\\qquad\n",
    "\\forall  \\enspace j \\: \\epsilon \\:J\n",
    "$$"
   ],
   "metadata": {
    "collapsed": false
   }
  },
  {
   "cell_type": "markdown",
   "source": [
    "<pre>\n",
    "$$\n",
    "\\sum_{i=1}^{I} x_ij < d_i\n",
    "\\qquad\n",
    "\\forall  \\enspace j \\: \\epsilon \\:J\n",
    "$$\n",
    "</pre>"
   ],
   "metadata": {
    "collapsed": false
   }
  },
  {
   "cell_type": "markdown",
   "source": [
    "[**Return to TOC**](#toc)"
   ],
   "metadata": {
    "collapsed": false
   }
  },
  {
   "cell_type": "markdown",
   "source": [
    "<a id='colored_note_boxes'></a>"
   ],
   "metadata": {
    "collapsed": false
   }
  },
  {
   "cell_type": "markdown",
   "source": [
    "***\n",
    "# <font color=blue> Colored Note Boxes</font>\n",
    "***"
   ],
   "metadata": {
    "collapsed": false
   }
  },
  {
   "cell_type": "markdown",
   "source": [
    "<a id='blue_box'></a>"
   ],
   "metadata": {
    "collapsed": false
   }
  },
  {
   "cell_type": "markdown",
   "source": [
    "## Blue Box  (alert-info)"
   ],
   "metadata": {
    "collapsed": false
   }
  },
  {
   "cell_type": "markdown",
   "source": [
    "<div class=\"alert alert-block alert-info\">\n",
    "<b>Tip:</b> Use blue boxes (alert-info) for tips and notes.\n",
    "</div>"
   ],
   "metadata": {
    "collapsed": false
   }
  },
  {
   "cell_type": "markdown",
   "source": [
    "<pre>\n",
    "&lt;div class=\"alert alert-block alert-info\"&gt;\n",
    "&lt;b&gt;Tip:&lt;/b&gt; Use blue boxes (alert-info) for tips and notes.\n",
    "&lt;/div&gt;\n",
    "</pre>"
   ],
   "metadata": {
    "collapsed": false
   }
  },
  {
   "cell_type": "markdown",
   "source": [
    "[**Return to TOC**](#toc)"
   ],
   "metadata": {
    "collapsed": false
   }
  },
  {
   "cell_type": "markdown",
   "source": [
    "<a id='yellow_box'></a>"
   ],
   "metadata": {
    "collapsed": false
   }
  },
  {
   "cell_type": "markdown",
   "source": [
    "## Yellow Box (alart-warning)"
   ],
   "metadata": {
    "collapsed": false
   }
  },
  {
   "cell_type": "markdown",
   "source": [
    "<div class=\"alert alert-block alert-warning\">\n",
    "<b>Example:</b> Use yellow boxes for examples that are not inside code cells, or use for mathematical formulas if needed. Typically also used to display warning messages.\n",
    "</div>"
   ],
   "metadata": {
    "collapsed": false
   }
  },
  {
   "cell_type": "markdown",
   "source": [
    "<pre>\n",
    "&lt;div class=\"alert alert-block alert-warning\"&gt;\n",
    "&lt;b&gt;Example:&lt;/b&gt; Use yellow boxes for examples that are not inside code cells, or use for mathematical formulas if needed. Typically also used to display warning messages.\n",
    "&lt;/div&gt;\n",
    "</pre>"
   ],
   "metadata": {
    "collapsed": false
   }
  },
  {
   "cell_type": "markdown",
   "source": [
    "[**Return to TOC**](#toc)"
   ],
   "metadata": {
    "collapsed": false
   }
  },
  {
   "cell_type": "markdown",
   "source": [
    "<a id='green_box'></a>"
   ],
   "metadata": {
    "collapsed": false
   }
  },
  {
   "cell_type": "markdown",
   "source": [
    "## Green Box (alart-success)"
   ],
   "metadata": {
    "collapsed": false
   }
  },
  {
   "cell_type": "markdown",
   "source": [
    "<div class=\"alert alert-block alert-success\">\n",
    "<b>Success:</b> This alert box indicates a successful or positive action.\n",
    "</div>\n"
   ],
   "metadata": {
    "collapsed": false
   }
  },
  {
   "cell_type": "markdown",
   "source": [
    "<pre>\n",
    "&lt;div class=\"alert alert-block alert-success\"&gt;\n",
    "&lt;b&gt;Success:&lt;/b&gt; This alert box indicates a successful or positive action.\n",
    "&lt;/div&gt;\n",
    "</pre>"
   ],
   "metadata": {
    "collapsed": false
   }
  },
  {
   "cell_type": "markdown",
   "source": [
    "[**Return to TOC**](#toc)"
   ],
   "metadata": {
    "collapsed": false
   }
  },
  {
   "cell_type": "markdown",
   "source": [
    "<a id='red_box'></a>"
   ],
   "metadata": {
    "collapsed": false
   }
  },
  {
   "cell_type": "markdown",
   "source": [
    "## Red Box (alart-danger)"
   ],
   "metadata": {
    "collapsed": false
   }
  },
  {
   "cell_type": "markdown",
   "source": [
    "<div class=\"alert alert-block alert-danger\">\n",
    "<b>Danger:</b> This alert box indicates a dangerous or potentially negative action.\n",
    "</div>"
   ],
   "metadata": {
    "collapsed": false
   }
  },
  {
   "cell_type": "markdown",
   "source": [
    "<pre>\n",
    "&lt;div class=\"alert alert-block alert-danger\"&gt;\n",
    "&lt;b&gt;Danger:&lt;/b&gt; This alert box indicates a dangerous or potentially negative action.\n",
    "&lt;/div&gt;\n",
    "</pre>"
   ],
   "metadata": {
    "collapsed": false
   }
  },
  {
   "cell_type": "markdown",
   "source": [
    "[**Return to TOC**](#toc)"
   ],
   "metadata": {
    "collapsed": false
   }
  },
  {
   "cell_type": "markdown",
   "source": [
    "<a id='alert_info_box'></a>"
   ],
   "metadata": {
    "collapsed": false
   }
  },
  {
   "cell_type": "markdown",
   "source": [
    "## Alert Info Box"
   ],
   "metadata": {
    "collapsed": false
   }
  },
  {
   "cell_type": "markdown",
   "source": [
    "<div class=\"alert alert-info\"> </h4>\n",
    "This_gives_me_a_blue_alert_info_box\n",
    "</h4> </div>\n"
   ],
   "metadata": {
    "collapsed": false
   }
  },
  {
   "cell_type": "markdown",
   "source": [
    "<pre>\n",
    "&lt;div class=\"alert alert-info\"&gt; &lt;/h4&gt;\n",
    "This_gives_me_a_blue_alert_info_box\n",
    "&lt;/h4&gt; &lt;/div&gt;\n",
    "</pre>"
   ],
   "metadata": {
    "collapsed": false
   }
  },
  {
   "cell_type": "markdown",
   "source": [
    "[**Return to TOC**](#toc)"
   ],
   "metadata": {
    "collapsed": false
   }
  },
  {
   "cell_type": "markdown",
   "source": [
    "<a id='organization_and_callouts'></a>"
   ],
   "metadata": {
    "collapsed": false
   }
  },
  {
   "cell_type": "markdown",
   "source": [
    "***\n",
    "# <font color=blue> Organization and Callouts</font>\n",
    "***"
   ],
   "metadata": {
    "collapsed": false
   }
  },
  {
   "cell_type": "markdown",
   "source": [
    "<a id='break_lines'></a>"
   ],
   "metadata": {
    "collapsed": false
   }
  },
  {
   "cell_type": "markdown",
   "source": [
    "## Break Lines"
   ],
   "metadata": {
    "collapsed": false
   }
  },
  {
   "cell_type": "markdown",
   "source": [
    "***\n",
    "Break line above and below text\n",
    "***"
   ],
   "metadata": {
    "collapsed": false
   }
  },
  {
   "cell_type": "markdown",
   "source": [
    "<pre>\n",
    "***\n",
    "Break line above and below text\n",
    "***\n",
    "</pre>"
   ],
   "metadata": {
    "collapsed": false
   }
  },
  {
   "cell_type": "markdown",
   "source": [
    "[**Return to TOC**](#toc)"
   ],
   "metadata": {
    "collapsed": false
   }
  },
  {
   "cell_type": "markdown",
   "source": [
    "<a id='inline_code'></a>"
   ],
   "metadata": {
    "collapsed": false
   }
  },
  {
   "cell_type": "markdown",
   "source": [
    "## Inline Code"
   ],
   "metadata": {
    "collapsed": false
   }
  },
  {
   "cell_type": "markdown",
   "source": [
    "This is `inline code` highlighting"
   ],
   "metadata": {
    "collapsed": false
   }
  },
  {
   "cell_type": "markdown",
   "source": [
    "<pre>\n",
    "This is `inline code` highlighting\n",
    "</pre>"
   ],
   "metadata": {
    "collapsed": false
   }
  },
  {
   "cell_type": "markdown",
   "source": [
    "[**Return to TOC**](#toc)"
   ],
   "metadata": {
    "collapsed": false
   }
  },
  {
   "cell_type": "markdown",
   "source": [
    "<a id='block_code'></a>"
   ],
   "metadata": {
    "collapsed": false
   }
  },
  {
   "cell_type": "markdown",
   "source": [
    "## Block Code"
   ],
   "metadata": {
    "collapsed": false
   }
  },
  {
   "cell_type": "markdown",
   "source": [
    "```\n",
    "str = \"This is block level code\"\n",
    "print(str)\n",
    "```"
   ],
   "metadata": {
    "collapsed": false
   }
  },
  {
   "cell_type": "markdown",
   "source": [
    "<pre>\n",
    "```\n",
    "str = \"This is block level code\"\n",
    "print(str)\n",
    "```\n",
    "</pre>"
   ],
   "metadata": {
    "collapsed": false
   }
  },
  {
   "cell_type": "markdown",
   "source": [
    "[**Return to TOC**](#toc)"
   ],
   "metadata": {
    "collapsed": false
   }
  },
  {
   "cell_type": "markdown",
   "source": [
    "<a id='syntax_highlighting'></a>"
   ],
   "metadata": {
    "collapsed": false
   }
  },
  {
   "cell_type": "markdown",
   "source": [
    "## Code with Syntax Highlighting"
   ],
   "metadata": {
    "collapsed": false
   }
  },
  {
   "cell_type": "markdown",
   "source": [
    "```Python\n",
    "str = \"This is block level code\"\n",
    "print(str)\n",
    "```"
   ],
   "metadata": {
    "collapsed": false
   }
  },
  {
   "cell_type": "markdown",
   "source": [
    "<pre>\n",
    "```Python\n",
    "str = \"This is block level code\"\n",
    "print(str)\n",
    "```\n",
    "</pre>"
   ],
   "metadata": {
    "collapsed": false
   }
  },
  {
   "cell_type": "markdown",
   "source": [
    "[**Return to TOC**](#toc)"
   ],
   "metadata": {
    "collapsed": false
   }
  },
  {
   "cell_type": "markdown",
   "source": [
    "<a id='indented_quoting'></a>"
   ],
   "metadata": {
    "collapsed": false
   }
  },
  {
   "cell_type": "markdown",
   "source": [
    "## Indented Quoting"
   ],
   "metadata": {
    "collapsed": false
   }
  },
  {
   "cell_type": "markdown",
   "source": [
    "> this is an example of indented quoting"
   ],
   "metadata": {
    "collapsed": false
   }
  },
  {
   "cell_type": "markdown",
   "source": [
    "<pre>\n",
    "> this is an example of indented quoting\n",
    "</pre>"
   ],
   "metadata": {
    "collapsed": false
   }
  },
  {
   "cell_type": "markdown",
   "source": [
    "[**Return to TOC**](#toc)"
   ],
   "metadata": {
    "collapsed": false
   }
  },
  {
   "cell_type": "markdown",
   "source": [
    "<a id='blockquotes'></a>"
   ],
   "metadata": {
    "collapsed": false
   }
  },
  {
   "cell_type": "markdown",
   "source": [
    "## Multiple Indented Quoting (Blockquotes)"
   ],
   "metadata": {
    "collapsed": false
   }
  },
  {
   "cell_type": "markdown",
   "source": [
    "> 1 Blockquotes\n",
    ">> 2 Blockquotes\n",
    ">>> 3 Blockquotes"
   ],
   "metadata": {
    "collapsed": false
   }
  },
  {
   "cell_type": "markdown",
   "source": [
    "<pre>\n",
    "&gt; 1 Blockquotes\n",
    "&gt;&gt; 2 Blockquotes\n",
    "&gt;&gt;&gt; 3 Blockquotes\n",
    "</pre>"
   ],
   "metadata": {
    "collapsed": false
   }
  },
  {
   "cell_type": "markdown",
   "source": [
    "[**Return to TOC**](#toc)"
   ],
   "metadata": {
    "collapsed": false
   }
  },
  {
   "cell_type": "code",
   "execution_count": null,
   "outputs": [],
   "source": [
    "\n",
    "\n"
   ],
   "metadata": {
    "collapsed": false,
    "pycharm": {
     "name": "#%%\n"
    }
   }
  }
 ],
 "metadata": {
  "kernelspec": {
   "display_name": "Python 3",
   "language": "python",
   "name": "python3"
  },
  "language_info": {
   "codemirror_mode": {
    "name": "ipython",
    "version": 3
   },
   "file_extension": ".py",
   "mimetype": "text/x-python",
   "name": "python",
   "nbconvert_exporter": "python",
   "pygments_lexer": "ipython3",
   "version": "3.7.6"
  }
 },
 "nbformat": 4,
 "nbformat_minor": 4
}